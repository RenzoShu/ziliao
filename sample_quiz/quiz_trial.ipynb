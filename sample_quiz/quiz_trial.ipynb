{
 "cells": [
  {
   "cell_type": "markdown",
   "metadata": {},
   "source": [
    "**Q**: Create a list comprehension that builds a list of 2-tuples. Each 2-tuple should contain two integers. The first should be a multiple of 3 and the second should be the square of the first. The range of the first integer in the 2-tuples should span from 3 to 99 inlcusive."
   ]
  },
  {
   "cell_type": "code",
   "execution_count": null,
   "metadata": {
    "collapsed": true
   },
   "outputs": [],
   "source": [
    "[(x, x**2) for x in range(3, 100, 3)]"
   ]
  },
  {
   "cell_type": "code",
   "execution_count": null,
   "metadata": {
    "collapsed": true
   },
   "outputs": [],
   "source": [
    "[(x, x**2) for x in range(3, 100) if x % 3 == 0]"
   ]
  },
  {
   "cell_type": "markdown",
   "metadata": {},
   "source": [
    "**Q**: Create a class called `Human`. A `Human` should be initialized with a first and last name.  \n",
    "\n",
    "Add a method to the `Human` class that is called `hello`. The hello class should take a first name and return a string that includes both first names in a greeting. \n",
    "\n",
    "Add a method to the class that provides access to the Humans's full name as though it were a data attribute of the instantiated class.\n",
    "\n",
    "Eg.\n",
    "\n",
    "    >>> h = Human('Mike', 'Portello')\n",
    "    >>> h.hello('Susan')\n",
    "    'Hello Susan, I'm Mike!'\n",
    "    >>> h.full_name\n",
    "    'Mike Portello'\n",
    "    "
   ]
  },
  {
   "cell_type": "code",
   "execution_count": null,
   "metadata": {
    "collapsed": true
   },
   "outputs": [],
   "source": [
    "class Human:\n",
    "    def __init__(self, first_name, last_name):\n",
    "        self.first_name = first_name\n",
    "        self.last_name = last_name\n",
    "        \n",
    "    def hello(self, name):\n",
    "        return \"Hello {}, I'm {}!\".format(name, self.first_name)\n",
    "    \n",
    "    @property\n",
    "    def full_name(self):\n",
    "        return self.first_name + ' ' + self.last_name"
   ]
  },
  {
   "cell_type": "markdown",
   "metadata": {},
   "source": [
    "**Q**: Assume there is a file on your local file system located at 'keywords.txt'. The file has one word per line. Write a function named `fetch_keywords` that opens the file, reads its contents, breaks the contents into individual words, and returns those words in a set. The function should ignore the case of the letters in the words (ie. if both 'Hi' and 'hi' appear in the 'keywords.txt' file, only 'hi' should appear in the final set)."
   ]
  },
  {
   "cell_type": "code",
   "execution_count": null,
   "metadata": {
    "collapsed": true
   },
   "outputs": [],
   "source": [
    "def fetch_keywords():\n",
    "    with open('keywords.txt') as fp:\n",
    "        return set(fp.read().lower().split())"
   ]
  },
  {
   "cell_type": "markdown",
   "metadata": {},
   "source": [
    "**Q**: Copy and complete the recurisve function:\n",
    "\n",
    "    def flatten(obj):\n",
    "        \"\"\"\n",
    "        This function should take a nested dictionary strucutre of unknown \n",
    "        depth and flatten its keys and values into a single dictonary. \n",
    "        The values at keys in deeper dicts should take precedence over \n",
    "        the values in the higher dicts that contain them. For consistency,\n",
    "        the items in ``obj`` should be sorted before de-nesting.\n",
    "\n",
    "        >>> flatten({'a': {'a': True, 'b': {'b': False}}, 'c': None})\n",
    "        {'a': True, 'b': False, 'c': None}\n",
    "        \"\"\"\n",
    "        flattened_dict = {}\n",
    "        for key, value in sorted(obj.items()):\n",
    "            if isinstance(value, dict):\n",
    "                # FILL ME IN\n",
    "            else:\n",
    "                # FILL ME IN\n",
    "\n",
    "        return flattened_dict\n",
    "        \n",
    "[2 Points]"
   ]
  },
  {
   "cell_type": "code",
   "execution_count": null,
   "metadata": {
    "collapsed": true
   },
   "outputs": [],
   "source": [
    "def flatten(obj):\n",
    "    \"\"\"\n",
    "    This function should take a nested dictionary strucutre of unknown \n",
    "    depth and flatten its keys and values into a single dictonary. \n",
    "    The values at keys in deeper dicts should take precedence over \n",
    "    the values in the higher dicts that contain them. For consistency,\n",
    "    the items in ``obj`` should be sorted before de-nesting.\n",
    "    \n",
    "    >>> flatten({'a': {'a': True, 'b': {'b': False}}, 'c': None})\n",
    "    {'a': True, 'b': False, 'c': None}\n",
    "    \"\"\"\n",
    "    flattened_dict = {}\n",
    "    for key, value in sorted(obj.items()):\n",
    "        if isinstance(value, dict):\n",
    "            flattened_dict.update(flatten(value))\n",
    "        else:\n",
    "            flattened_dict[key] = value\n",
    "\n",
    "    return flattened_dict"
   ]
  },
  {
   "cell_type": "markdown",
   "metadata": {},
   "source": [
    "**Q**: Create a function that determines if a passed value can be cast to an integer. The function should be named `can_be_int` and should take one positional argument.\n",
    "\n",
    "```\n",
    ">>> can_be_int('1')\n",
    "True\n",
    ">>> can_be_int('f')\n",
    "False\n",
    "```"
   ]
  },
  {
   "cell_type": "code",
   "execution_count": 2,
   "metadata": {},
   "outputs": [
    {
     "name": "stdout",
     "output_type": "stream",
     "text": [
      "True\n",
      "False\n"
     ]
    }
   ],
   "source": [
    "def can_be_int(val):\n",
    "    try:\n",
    "        int(val)\n",
    "        return True\n",
    "    except (ValueError, TypeError):\n",
    "        return False\n",
    "\n",
    "\n",
    "# Testing of function as below not necessary for points\n",
    "print(can_be_int('1'))\n",
    "print(can_be_int('f'))"
   ]
  },
  {
   "cell_type": "markdown",
   "metadata": {},
   "source": [
    "**Q**: What is the runtime name of a module when run at the command line? Ie. If a file cli.py had the following statement...\n",
    "\n",
    "    print(__name__)\n",
    "    \n",
    "... what would `$ python cli.py` output?"
   ]
  },
  {
   "cell_type": "code",
   "execution_count": null,
   "metadata": {
    "collapsed": true
   },
   "outputs": [],
   "source": [
    "__main__"
   ]
  },
  {
   "cell_type": "markdown",
   "metadata": {},
   "source": [
    "**Q**: Write the one or two lines of code necessary to enter into a debugging environment within an active Python interpreter."
   ]
  },
  {
   "cell_type": "code",
   "execution_count": null,
   "metadata": {
    "collapsed": true
   },
   "outputs": [],
   "source": [
    "import pdb;pdb.set_trace()"
   ]
  },
  {
   "cell_type": "code",
   "execution_count": null,
   "metadata": {},
   "outputs": [],
   "source": []
  },
  {
   "cell_type": "code",
   "execution_count": null,
   "metadata": {},
   "outputs": [],
   "source": []
  },
  {
   "cell_type": "code",
   "execution_count": null,
   "metadata": {},
   "outputs": [],
   "source": []
  },
  {
   "cell_type": "code",
   "execution_count": 1,
   "metadata": {},
   "outputs": [],
   "source": [
    "! ~/D203 9706898719 \"ZeiQi\""
   ]
  },
  {
   "cell_type": "code",
   "execution_count": null,
   "metadata": {},
   "outputs": [],
   "source": [
    "! cp PythonQuiz_Trial ../wangzhe"
   ]
  }
 ],
 "metadata": {
  "kernelspec": {
   "display_name": "Python 3",
   "language": "python",
   "name": "python3"
  },
  "language_info": {
   "codemirror_mode": {
    "name": "ipython",
    "version": 3
   },
   "file_extension": ".py",
   "mimetype": "text/x-python",
   "name": "python",
   "nbconvert_exporter": "python",
   "pygments_lexer": "ipython3",
   "version": "3.6.4"
  }
 },
 "nbformat": 4,
 "nbformat_minor": 2
}
