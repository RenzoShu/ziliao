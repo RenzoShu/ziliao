{
 "cells": [
  {
   "cell_type": "markdown",
   "metadata": {
    "nbpresent": {
     "id": "6337f036-2c49-4e5a-bb33-80529dfa0687"
    }
   },
   "source": [
    "# Day 2"
   ]
  },
  {
   "cell_type": "code",
   "execution_count": 1,
   "metadata": {
    "collapsed": true
   },
   "outputs": [],
   "source": [
    "# Surveys\n",
    "# PSQL/Bash notes coming\n",
    "# Why SQL\n",
    "# 2 for 1 homeworks\n",
    "# PEP 8 257\n",
    "\n",
    "# Drop database, create database\n",
    "# Floating point arithemtic\n",
    "\n",
    "\n",
    "# Explain bits, bytes\n",
    "# Describe Memory of a computer and process. (5 minutes)"
   ]
  },
  {
   "cell_type": "markdown",
   "metadata": {},
   "source": [
    "## Casting"
   ]
  },
  {
   "cell_type": "code",
   "execution_count": null,
   "metadata": {
    "collapsed": true
   },
   "outputs": [],
   "source": [
    "# Python is wierd in that integers take more memory than \n",
    "# floats, but the behaviour from C has been maintained.\n",
    "int(1.0)"
   ]
  },
  {
   "cell_type": "code",
   "execution_count": null,
   "metadata": {
    "collapsed": true
   },
   "outputs": [],
   "source": [
    "float('1')  # Can cast strings containing only number literals"
   ]
  },
  {
   "cell_type": "code",
   "execution_count": null,
   "metadata": {
    "collapsed": true
   },
   "outputs": [],
   "source": [
    "float(1)"
   ]
  },
  {
   "cell_type": "code",
   "execution_count": null,
   "metadata": {
    "collapsed": true
   },
   "outputs": [],
   "source": [
    "ord('c')  # Cast char to its Unicode value"
   ]
  },
  {
   "cell_type": "code",
   "execution_count": null,
   "metadata": {
    "collapsed": true
   },
   "outputs": [],
   "source": [
    "str(1) + 'he'"
   ]
  },
  {
   "cell_type": "code",
   "execution_count": null,
   "metadata": {
    "collapsed": true
   },
   "outputs": [],
   "source": [
    "type(1)"
   ]
  },
  {
   "cell_type": "code",
   "execution_count": null,
   "metadata": {
    "collapsed": true
   },
   "outputs": [],
   "source": [
    "type(1)(2.7754)"
   ]
  },
  {
   "cell_type": "markdown",
   "metadata": {
    "nbpresent": {
     "id": "be8cfcc1-ff4d-4948-9404-928e6ee9729d"
    }
   },
   "source": [
    "## Let's draw this out... more on strings"
   ]
  },
  {
   "cell_type": "code",
   "execution_count": null,
   "metadata": {
    "collapsed": true,
    "nbpresent": {
     "id": "fab0a6ba-7365-4a38-a23d-f3805cd59a96"
    }
   },
   "outputs": [],
   "source": [
    "'Hello World' + ', How are you?'  # Join strings in memory to create new (3rd) string"
   ]
  },
  {
   "cell_type": "code",
   "execution_count": null,
   "metadata": {
    "collapsed": true,
    "nbpresent": {
     "id": "3484f41e-ea24-47d6-95a7-3e7adfac1937"
    }
   },
   "outputs": [],
   "source": [
    "'Hello World ' * 100"
   ]
  },
  {
   "cell_type": "code",
   "execution_count": null,
   "metadata": {
    "collapsed": true,
    "nbpresent": {
     "id": "0513302b-75b7-44c9-af79-2ef2121386a7"
    }
   },
   "outputs": [],
   "source": [
    "# What if we want multiline strings?\n",
    "'Hello World!\n",
    "How are you?'"
   ]
  },
  {
   "cell_type": "code",
   "execution_count": null,
   "metadata": {
    "collapsed": true,
    "nbpresent": {
     "id": "6481f362-68ae-4488-91ca-420fa147e793"
    }
   },
   "outputs": [],
   "source": [
    "# We have to escape the new line character\n",
    "\"Hello World! \\\n",
    "How are you today?\""
   ]
  },
  {
   "cell_type": "code",
   "execution_count": null,
   "metadata": {
    "collapsed": true,
    "nbpresent": {
     "id": "3e48d773-1d27-4741-8b94-150a9d8fdd8d"
    }
   },
   "outputs": [],
   "source": [
    "# OR we can use multiline strings\n",
    "\"\"\"\n",
    "Hello World!\n",
    "Hi! How are you today?\n",
    "\"\"\"  # Contains an escape sequence"
   ]
  },
  {
   "cell_type": "code",
   "execution_count": null,
   "metadata": {
    "collapsed": true
   },
   "outputs": [],
   "source": [
    "# Those new lines are shown above because Jupyter Notebook \n",
    "# shows us the \"code\" for how this string should be printed,\n",
    "# Not what the printed string looks like.\n",
    "\n",
    "# We need to pass the string though `print` to get those \n",
    "# new lines expressed.\n",
    "print('\\nHello World!\\nHi! How are you?\\n')"
   ]
  },
  {
   "cell_type": "code",
   "execution_count": null,
   "metadata": {
    "collapsed": true,
    "nbpresent": {
     "id": "3943d274-a036-496a-bb64-94fa168bd3b7"
    }
   },
   "outputs": [],
   "source": [
    "# print does something special for us: \n",
    "#    It packages things up in a single item that is to be printed. \n",
    "print('Hello', 'World', 1, sep='-')\n",
    "'Hello', 'World', 1"
   ]
  },
  {
   "cell_type": "code",
   "execution_count": null,
   "metadata": {
    "collapsed": true
   },
   "outputs": [],
   "source": [
    "name = 'Jane'\n",
    "f'He said his name was {name}.'"
   ]
  },
  {
   "cell_type": "code",
   "execution_count": null,
   "metadata": {
    "collapsed": true
   },
   "outputs": [],
   "source": [
    "# We can use different presentation types for a given value\n",
    "value = 12.345674784849393\n",
    "f'result: {value:.2f}'"
   ]
  },
  {
   "cell_type": "code",
   "execution_count": null,
   "metadata": {
    "collapsed": true,
    "nbpresent": {
     "id": "132bd247-e746-4083-8f14-b2fd57fa1569"
    }
   },
   "outputs": [],
   "source": [
    "num = 99.7658 / 100\n",
    "f'{num:.2%}'"
   ]
  },
  {
   "cell_type": "code",
   "execution_count": null,
   "metadata": {
    "collapsed": true,
    "nbpresent": {
     "id": "77bbeb6a-5dbb-4308-a4e6-f92aad483e45"
    }
   },
   "outputs": [],
   "source": [
    "num = 42\n",
    "f\"int: {num:d}  hex: {num:#x}  oct: {num:#o}  bin: {num:#b}\""
   ]
  },
  {
   "cell_type": "markdown",
   "metadata": {},
   "source": [
    "##### Exercise\n",
    "\n",
    "- Create a string that uses both single quotes and double quotes but no backslashes."
   ]
  },
  {
   "cell_type": "markdown",
   "metadata": {
    "nbpresent": {
     "id": "685e1145-282e-422f-ada0-93b64e54a670"
    }
   },
   "source": [
    "#####  Explain encodings, utf8, Unicode, + more\n",
    "\n",
    "http://www.asciitable.com/\n",
    "\n",
    "https://www.youtube.com/watch?v=MijmeoH9LT4"
   ]
  },
  {
   "cell_type": "code",
   "execution_count": null,
   "metadata": {
    "collapsed": true,
    "nbpresent": {
     "id": "cdecfb87-1a1c-4244-9a53-fae8d760f739"
    }
   },
   "outputs": [],
   "source": [
    "'HЀllo World'.encode('utf-8')"
   ]
  },
  {
   "cell_type": "code",
   "execution_count": null,
   "metadata": {
    "collapsed": true,
    "nbpresent": {
     "id": "80492de2-3d90-45a5-b797-202a64f240d8"
    }
   },
   "outputs": [],
   "source": [
    "ord('Ѐ')  # We can find the decimal number for a character"
   ]
  },
  {
   "cell_type": "code",
   "execution_count": null,
   "metadata": {
    "collapsed": true,
    "nbpresent": {
     "id": "74074cc9-b682-4fca-9dd0-de734d0f6bf9"
    }
   },
   "outputs": [],
   "source": [
    "bin(ord('Ѐ'))  # We can find the binary number for a character"
   ]
  },
  {
   "cell_type": "code",
   "execution_count": null,
   "metadata": {
    "collapsed": true
   },
   "outputs": [],
   "source": [
    "b'pie'"
   ]
  },
  {
   "cell_type": "code",
   "execution_count": null,
   "metadata": {
    "collapsed": true
   },
   "outputs": [],
   "source": [
    "b'Πie'  # Doesn't work because byte strings can only contain characters that are one byte in size."
   ]
  },
  {
   "cell_type": "markdown",
   "metadata": {},
   "source": [
    "#### Exercise\n",
    "\n",
    "Determine if the length of a string is the same length as its encoded string if the string contains a unicode character."
   ]
  },
  {
   "cell_type": "markdown",
   "metadata": {
    "nbpresent": {
     "id": "adf94f92-83ac-44c5-b5d4-a91c28e193b7"
    }
   },
   "source": [
    "##### Comments and docstrings"
   ]
  },
  {
   "cell_type": "code",
   "execution_count": null,
   "metadata": {
    "collapsed": true,
    "nbpresent": {
     "id": "466e5942-4600-4e20-9b4b-868f7b6875c3"
    }
   },
   "outputs": [],
   "source": [
    "# This is a long comment that will have not expressed value\n",
    "# 2 + 2 <<== Four will not be output"
   ]
  },
  {
   "cell_type": "code",
   "execution_count": null,
   "metadata": {
    "collapsed": true,
    "nbpresent": {
     "id": "3a6ce828-8e8f-46ff-bfe3-8c170a818c34"
    }
   },
   "outputs": [],
   "source": [
    "# Use \"CMD + /\".\n",
    "# This \n",
    "# is\n",
    "# a\n",
    "# bunch\n",
    "# of\n",
    "# text\n",
    "# I\n",
    "# want to \n",
    "# comment \n",
    "# out all \n",
    "# at once. "
   ]
  },
  {
   "cell_type": "code",
   "execution_count": null,
   "metadata": {
    "collapsed": true,
    "nbpresent": {
     "id": "fb7d22f3-8c7f-41c7-b1ec-92316a223e88"
    }
   },
   "outputs": [],
   "source": [
    "def func():\n",
    "    \"\"\"\n",
    "    If a string is right at the beginning of a function.\n",
    "    It would also be considered a docstring.\n",
    "    \"\"\"\n",
    "\n",
    "func.__doc__"
   ]
  },
  {
   "cell_type": "markdown",
   "metadata": {
    "nbpresent": {
     "id": "f344685e-8f35-4151-aa82-b7ae84d3ff5a"
    }
   },
   "source": [
    "## Variables"
   ]
  },
  {
   "cell_type": "code",
   "execution_count": null,
   "metadata": {
    "collapsed": true
   },
   "outputs": [],
   "source": [
    "a = 1"
   ]
  },
  {
   "cell_type": "code",
   "execution_count": null,
   "metadata": {
    "collapsed": true,
    "nbpresent": {
     "id": "3b92ec41-012a-4577-8f30-8d6591884a64"
    }
   },
   "outputs": [],
   "source": [
    "'Hank' = a  # variable is always on left"
   ]
  },
  {
   "cell_type": "code",
   "execution_count": null,
   "metadata": {
    "collapsed": true
   },
   "outputs": [],
   "source": [
    "abcdefg_2017 = 'HI!'  # letters, numbers, and underscores can be used in a variable name\n",
    "abcdefg_2017"
   ]
  },
  {
   "cell_type": "code",
   "execution_count": null,
   "metadata": {
    "collapsed": true,
    "nbpresent": {
     "id": "394163b9-a155-4e66-af6d-e51b0e6d569b"
    }
   },
   "outputs": [],
   "source": [
    "abcDEFg_2017  # case matters!"
   ]
  },
  {
   "cell_type": "code",
   "execution_count": null,
   "metadata": {
    "collapsed": true,
    "nbpresent": {
     "id": "9eb1634f-0be8-4f02-8cef-886e8ff99a6c"
    }
   },
   "outputs": [],
   "source": [
    "2017abced = 1  # variables must start with a letter or underscore."
   ]
  },
  {
   "cell_type": "code",
   "execution_count": null,
   "metadata": {
    "collapsed": true,
    "nbpresent": {
     "id": "f472f911-f9a7-4ac0-9847-0e9a286480db"
    }
   },
   "outputs": [],
   "source": [
    "IAmABadpracticeVARname='boo'  # Bad capitalization and bad spacing around binding operator."
   ]
  },
  {
   "cell_type": "code",
   "execution_count": null,
   "metadata": {
    "collapsed": true,
    "nbpresent": {
     "id": "32ee16f7-dd32-430f-a128-07ce5c4dc93f"
    }
   },
   "outputs": [],
   "source": [
    "i_am_a_best_practice_variable_name = 'YES!'"
   ]
  },
  {
   "cell_type": "code",
   "execution_count": null,
   "metadata": {
    "collapsed": true,
    "nbpresent": {
     "id": "47f4f227-61ea-4ce3-ba34-80199a631da9"
    }
   },
   "outputs": [],
   "source": [
    "# Weak \"internal use\" indicator. Protected variable.\n",
    "# Also, avoids import during star import. E.g. from M import * will not import _vars.\n",
    "# https://www.python.org/dev/peps/pep-0008/#method-names-and-instance-variables\n",
    "_i_am_for_internal_use = \"Please, don't mess with me from outside of my package.\"\n",
    "_i_am_for_internal_use"
   ]
  },
  {
   "cell_type": "code",
   "execution_count": null,
   "metadata": {
    "collapsed": true
   },
   "outputs": [],
   "source": [
    "# Use an underscore after a varialbe name that would otherwise \n",
    "# conflict with a built in function or keyword.\n",
    "list_ = [1, 2, 3]  # Instead of list = [1, 2, 3]"
   ]
  },
  {
   "cell_type": "code",
   "execution_count": null,
   "metadata": {
    "collapsed": true,
    "nbpresent": {
     "id": "0b7e6445-3743-436a-a549-2f2149e80401"
    }
   },
   "outputs": [],
   "source": [
    "max(1, 2)"
   ]
  },
  {
   "cell_type": "code",
   "execution_count": null,
   "metadata": {
    "collapsed": true
   },
   "outputs": [],
   "source": [
    "max = print"
   ]
  },
  {
   "cell_type": "code",
   "execution_count": null,
   "metadata": {
    "collapsed": true
   },
   "outputs": [],
   "source": [
    "max(1, 2)"
   ]
  },
  {
   "cell_type": "code",
   "execution_count": null,
   "metadata": {
    "collapsed": true
   },
   "outputs": [],
   "source": [
    "# Two underscores has even more of a special meaning... a private variable.\n",
    "__i_am_super_secret = 'And I will be explained later in the section on OOP'\n",
    "# Don't create variable names starting with two underscores until we cover OOP."
   ]
  },
  {
   "cell_type": "code",
   "execution_count": null,
   "metadata": {
    "collapsed": true
   },
   "outputs": [],
   "source": [
    "# varaibles with leading and trailing double underscores are considered magic! \n",
    "# And they have special logic associated with them in the context of OOP.\n",
    "__magic__ = ', I am'\n",
    "# Don't create variable names starting with two underscores until we cover OOP."
   ]
  },
  {
   "cell_type": "markdown",
   "metadata": {},
   "source": [
    "## Lists, location, and mutability"
   ]
  },
  {
   "cell_type": "code",
   "execution_count": null,
   "metadata": {
    "collapsed": true
   },
   "outputs": [],
   "source": [
    "id(1)"
   ]
  },
  {
   "cell_type": "code",
   "execution_count": null,
   "metadata": {
    "collapsed": true
   },
   "outputs": [],
   "source": [
    "list1 = [1, 2, 3]\n",
    "id(list1)"
   ]
  },
  {
   "cell_type": "code",
   "execution_count": null,
   "metadata": {
    "collapsed": true
   },
   "outputs": [],
   "source": [
    "list2 = [4, 5, 6]\n",
    "id(list2)"
   ]
  },
  {
   "cell_type": "code",
   "execution_count": null,
   "metadata": {
    "collapsed": true
   },
   "outputs": [],
   "source": [
    "list3 = list1 + list2\n",
    "id(list3)"
   ]
  },
  {
   "cell_type": "code",
   "execution_count": null,
   "metadata": {
    "collapsed": true
   },
   "outputs": [],
   "source": [
    "print(id(list1))\n",
    "print(list1)\n",
    "list1.extend(list2)\n",
    "print(list1)\n",
    "print(id(list1))"
   ]
  },
  {
   "cell_type": "markdown",
   "metadata": {},
   "source": [
    "## Loops"
   ]
  },
  {
   "cell_type": "code",
   "execution_count": null,
   "metadata": {
    "collapsed": true
   },
   "outputs": [],
   "source": [
    "for x in {10001, -4, 4, 5, 8, 9, 10}:\n",
    "    print(x)"
   ]
  },
  {
   "cell_type": "code",
   "execution_count": null,
   "metadata": {
    "collapsed": true
   },
   "outputs": [],
   "source": [
    "d = {'a': 1, 'b': 2, 'c': 3}\n",
    "for k in d:\n",
    "    print(k)"
   ]
  },
  {
   "cell_type": "code",
   "execution_count": null,
   "metadata": {
    "collapsed": true
   },
   "outputs": [],
   "source": [
    "for v in d.values():\n",
    "    print(v)"
   ]
  },
  {
   "cell_type": "code",
   "execution_count": null,
   "metadata": {
    "collapsed": true
   },
   "outputs": [],
   "source": [
    "for k, v in d.items():\n",
    "    print(k, v)"
   ]
  },
  {
   "cell_type": "code",
   "execution_count": null,
   "metadata": {
    "collapsed": true
   },
   "outputs": [],
   "source": [
    "l = list(range(10))\n",
    "l"
   ]
  },
  {
   "cell_type": "code",
   "execution_count": null,
   "metadata": {
    "collapsed": true
   },
   "outputs": [],
   "source": [
    "l2 = []\n",
    "for i in l:\n",
    "    l2.append(i ** 3)  # Do some operation on the value in the loop\n",
    "l2"
   ]
  },
  {
   "cell_type": "markdown",
   "metadata": {},
   "source": [
    "#### Comprehensions"
   ]
  },
  {
   "cell_type": "code",
   "execution_count": null,
   "metadata": {
    "collapsed": true
   },
   "outputs": [],
   "source": [
    "[i for i in range(10)]"
   ]
  },
  {
   "cell_type": "code",
   "execution_count": null,
   "metadata": {
    "collapsed": true
   },
   "outputs": [],
   "source": [
    "[i ** 3 for i in range(10)]"
   ]
  },
  {
   "cell_type": "code",
   "execution_count": null,
   "metadata": {
    "collapsed": true
   },
   "outputs": [],
   "source": [
    "[x for x in range(10) if x % 2]"
   ]
  },
  {
   "cell_type": "code",
   "execution_count": null,
   "metadata": {
    "collapsed": true
   },
   "outputs": [],
   "source": [
    "tup = [(1, 'a'), (2, 'b'), (3, 'c')]\n",
    "d = {k: 'Letter: ' + v for k, v in tup if k != 2}\n",
    "d"
   ]
  },
  {
   "cell_type": "code",
   "execution_count": null,
   "metadata": {
    "collapsed": true
   },
   "outputs": [],
   "source": [
    "# Nested comprehensions\n",
    "# Loops work from inside to out. \n",
    "# For example, below, y is held constant while x iterates to exhaustion. \n",
    "# Then y is incremented and x loops again.\n",
    "[('x' + str(x), 'y' + str(y)) for y in range(3) for x in range(2)]"
   ]
  },
  {
   "cell_type": "code",
   "execution_count": null,
   "metadata": {
    "collapsed": true
   },
   "outputs": [],
   "source": [
    "g = (x for x in range(10))\n",
    "g"
   ]
  },
  {
   "cell_type": "code",
   "execution_count": null,
   "metadata": {
    "collapsed": true
   },
   "outputs": [],
   "source": [
    "list(g)"
   ]
  },
  {
   "cell_type": "markdown",
   "metadata": {},
   "source": [
    "##### Exercises\n",
    "\n",
    "1. Create a function that returns the nth power of a number. By default, n should be 2.\n",
    "2. Create a loop that prints the number 1 to 15. But for multiples of 3 print 'Fizz' and for mulitples of 5 print 'Buzz'. For multiples of both, print 'FizzBuzz'."
   ]
  },
  {
   "cell_type": "markdown",
   "metadata": {},
   "source": [
    "### More on functions!"
   ]
  },
  {
   "cell_type": "code",
   "execution_count": null,
   "metadata": {
    "collapsed": true
   },
   "outputs": [],
   "source": [
    "# They provide scope!\n",
    "def func1(j):\n",
    "    k = j + 1\n",
    "    return k\n",
    "\n",
    "func1(1)\n",
    "\n",
    "j, k # j and k are part of the func1 scope, not part of the Jupyter notebook local scope."
   ]
  },
  {
   "cell_type": "code",
   "execution_count": null,
   "metadata": {
    "collapsed": true
   },
   "outputs": [],
   "source": [
    "locals()  # Let's check out what is in our Jupyter notebook local scope"
   ]
  },
  {
   "cell_type": "code",
   "execution_count": null,
   "metadata": {
    "collapsed": true
   },
   "outputs": [],
   "source": [
    "globals()  # Let's see what is loaded by this python process."
   ]
  },
  {
   "cell_type": "code",
   "execution_count": null,
   "metadata": {
    "collapsed": true
   },
   "outputs": [],
   "source": [
    "def myfunc(arg1, arg2, *args):  # we are passing tuple for positional arguments\n",
    "    print(arg1)\n",
    "    print(arg2)\n",
    "    print(args)\n",
    "myfunc(1, 2)"
   ]
  },
  {
   "cell_type": "code",
   "execution_count": null,
   "metadata": {
    "collapsed": true
   },
   "outputs": [],
   "source": [
    "myfunc(1, 2, 3, 4, 5)  # Extra args get wrapped up into a tuple labeled \"args\""
   ]
  },
  {
   "cell_type": "code",
   "execution_count": null,
   "metadata": {
    "collapsed": true
   },
   "outputs": [],
   "source": [
    "def myfunc(*args):\n",
    "    for a in args:\n",
    "        print(a)\n",
    "myfunc(1, 2, 3, 4)\n",
    "myfunc()"
   ]
  },
  {
   "cell_type": "code",
   "execution_count": null,
   "metadata": {
    "collapsed": true
   },
   "outputs": [],
   "source": [
    "def myfunc(**kwargs):  # we are passing a dict for keyword arguments\n",
    "    print(kwargs)\n",
    "myfunc(a=1, b=2, c=3)"
   ]
  },
  {
   "cell_type": "code",
   "execution_count": null,
   "metadata": {
    "collapsed": true
   },
   "outputs": [],
   "source": [
    "def myfunc(**kwargs):  # can not use postional args when only **kwargs is defined.\n",
    "    print(args)\n",
    "    print(kwargs)\n",
    "myfunc(1, 2, 3, 5, k=1, j=4)"
   ]
  },
  {
   "cell_type": "code",
   "execution_count": null,
   "metadata": {
    "collapsed": true
   },
   "outputs": [],
   "source": [
    "def myfunc(*args):  # can not use kwargs when only *args is defined\n",
    "    print(args)\n",
    "myfunc(a=1, b=2, c=3)"
   ]
  },
  {
   "cell_type": "code",
   "execution_count": null,
   "metadata": {
    "collapsed": true
   },
   "outputs": [],
   "source": [
    "def afunc(list_):  # pass in mutable things\n",
    "    list_.append('Hi')\n",
    "\n",
    "l = []\n",
    "print(l)\n",
    "afunc(l)    \n",
    "print(l)\n",
    "afunc(l)\n",
    "print(l)\n",
    "afunc(l)\n",
    "print(l)"
   ]
  },
  {
   "cell_type": "code",
   "execution_count": null,
   "metadata": {
    "collapsed": true
   },
   "outputs": [],
   "source": [
    "def afunc():  # make arguments mutable\n",
    "    l = []\n",
    "    l.append('Hi')\n",
    "    print(l)\n",
    "\n",
    "afunc()\n",
    "afunc()\n",
    "afunc()"
   ]
  },
  {
   "cell_type": "code",
   "execution_count": null,
   "metadata": {
    "collapsed": true
   },
   "outputs": [],
   "source": [
    "# Nameless (lambda) functions!\n",
    "funcs = [\n",
    "    lambda x: x ** 2, \n",
    "    lambda x: x ** 3,  \n",
    "]\n",
    "\n",
    "for func in funcs:\n",
    "    print(func(3))\n",
    "\n",
    "del func, funcs  # Delete funcs list from scope. Hardley ever used but if you really wanted to leave your scope unpolluted.\n",
    "\n",
    "locals()"
   ]
  },
  {
   "cell_type": "code",
   "execution_count": null,
   "metadata": {
    "collapsed": true
   },
   "outputs": [],
   "source": [
    "(lambda y, x: (x * y) ** 2)(2, 2)  # Can be defined with args, and kwargs"
   ]
  },
  {
   "cell_type": "code",
   "execution_count": null,
   "metadata": {
    "collapsed": true
   },
   "outputs": [],
   "source": [
    "list(map(lambda x: x + 5, [1, 2, 4, 5, 8]))"
   ]
  },
  {
   "cell_type": "code",
   "execution_count": null,
   "metadata": {
    "collapsed": true
   },
   "outputs": [],
   "source": [
    "# Recursion \n",
    "\n",
    "def myfunc(x):\n",
    "    if x > 0:\n",
    "        print('x is', x, '- Going deeper')\n",
    "        myfunc(x - 1)\n",
    "        print('x was', x, '- Coming back up')\n",
    "    else:\n",
    "        print('x is', x, '- Turning around')\n",
    "\n",
    "myfunc(2)"
   ]
  },
  {
   "cell_type": "code",
   "execution_count": null,
   "metadata": {
    "collapsed": true
   },
   "outputs": [],
   "source": []
  }
 ],
 "metadata": {
  "anaconda-cloud": {},
  "kernelspec": {
   "display_name": "Python 3",
   "language": "python",
   "name": "python3"
  },
  "language_info": {
   "codemirror_mode": {
    "name": "ipython",
    "version": 3
   },
   "file_extension": ".py",
   "mimetype": "text/x-python",
   "name": "python",
   "nbconvert_exporter": "python",
   "pygments_lexer": "ipython3",
   "version": "3.6.3"
  }
 },
 "nbformat": 4,
 "nbformat_minor": 1
}
