{
 "cells": [
  {
   "cell_type": "markdown",
   "metadata": {},
   "source": [
    "### Exceptions"
   ]
  },
  {
   "cell_type": "code",
   "execution_count": null,
   "metadata": {
    "scrolled": true
   },
   "outputs": [],
   "source": [
    "int('two')  # Can not cast non-integer bearing strings"
   ]
  },
  {
   "cell_type": "code",
   "execution_count": null,
   "metadata": {},
   "outputs": [],
   "source": [
    "try:\n",
    "    int('two')\n",
    "except ValueError:  # Caught specific error\n",
    "    print('Unable to cast the string to an integer')"
   ]
  },
  {
   "cell_type": "code",
   "execution_count": null,
   "metadata": {},
   "outputs": [],
   "source": [
    "try:\n",
    "    int('two')\n",
    "except TypeError:\n",
    "    print('This is a type error')\n",
    "except ValueError:  # Multiple errors can be caught\n",
    "    print('This is a value error')\n",
    "except: \n",
    "    print('This is a catch all error logic branch')"
   ]
  },
  {
   "cell_type": "code",
   "execution_count": null,
   "metadata": {},
   "outputs": [],
   "source": [
    "try:\n",
    "    int('1')\n",
    "except ValueError:\n",
    "    print('This is a value error')\n",
    "else:  # Can operate on the case where exception does not occur.\n",
    "    print('Nothing bad happened')"
   ]
  },
  {
   "cell_type": "code",
   "execution_count": null,
   "metadata": {},
   "outputs": [],
   "source": [
    "try:\n",
    "    int('two')\n",
    "except ValueError:\n",
    "    print('This is a value error')\n",
    "else:\n",
    "    print('Nothing bad happened')\n",
    "finally:  # NO MATTER WHAT, DO THIS!\n",
    "    print('No matter what! Do this.')"
   ]
  },
  {
   "cell_type": "code",
   "execution_count": null,
   "metadata": {
    "scrolled": true
   },
   "outputs": [],
   "source": [
    "try:\n",
    "    ().append(1)\n",
    "finally:  # Can just have a finally class, ... context managers\n",
    "    print('We tried a cast')"
   ]
  },
  {
   "cell_type": "code",
   "execution_count": null,
   "metadata": {},
   "outputs": [],
   "source": [
    "def raise_havoc():\n",
    "    raise RuntimeError('HAVOC!')  # Can customize messages of specific errors.\n",
    "    \n",
    "raise_havoc()"
   ]
  },
  {
   "cell_type": "code",
   "execution_count": null,
   "metadata": {
    "scrolled": true
   },
   "outputs": [],
   "source": [
    "def raise_parent():  # Tracebacks are a good thing\n",
    "    raise_havoc()\n",
    "    print('Havoc was not raised! :)')\n",
    "\n",
    "def raise_grandparent():\n",
    "    raise_parent()\n",
    "\n",
    "raise_grandparent()  # Exception causes traceback"
   ]
  },
  {
   "cell_type": "code",
   "execution_count": null,
   "metadata": {},
   "outputs": [],
   "source": [
    "raise ValueError(1)  # Let's break this down"
   ]
  },
  {
   "cell_type": "code",
   "execution_count": null,
   "metadata": {},
   "outputs": [],
   "source": [
    "try:\n",
    "    # let's try to raise the grandparent of Havoc. Maybe it's less volitile.\n",
    "    raise_grandparent()\n",
    "except:\n",
    "    print('We got bad news.')"
   ]
  },
  {
   "cell_type": "code",
   "execution_count": null,
   "metadata": {},
   "outputs": [],
   "source": [
    "try:\n",
    "    # let's try to raise the grandparent of Havoc. Maybe it's less volitile.\n",
    "    raise_grandparent()\n",
    "except:\n",
    "    print('We got bad news.')  # Let's do something and continue on with the error.\n",
    "    raise"
   ]
  },
  {
   "cell_type": "code",
   "execution_count": null,
   "metadata": {},
   "outputs": [],
   "source": [
    "raise NameError('Name {} not defined'.format('moose'))  # Another example of a common error customized."
   ]
  },
  {
   "cell_type": "markdown",
   "metadata": {},
   "source": [
    "##### Exercises\n",
    "\n",
    "1. Cause a `NameError`. You can't just do `raise NameError()`. Catch wrap that line causing the `NameError` in a `try...except` block to catch the error. print \"saved!\" under the condition that the `NameError` is caught.\n",
    "2. Raise a `ValueError` with a custom message.\n",
    "3. Reraise a `ValueError` with a custom message."
   ]
  },
  {
   "cell_type": "code",
   "execution_count": null,
   "metadata": {
    "collapsed": true
   },
   "outputs": [],
   "source": [
    "try:\n",
    "    moose\n",
    "except NameError:\n",
    "    print('saved!')"
   ]
  },
  {
   "cell_type": "code",
   "execution_count": null,
   "metadata": {
    "collapsed": true
   },
   "outputs": [],
   "source": [
    "try:\n",
    "    raise ValueError('Whoops!')\n",
    "except ValueError:\n",
    "    print('Caught!')\n",
    "    raise"
   ]
  }
 ],
 "metadata": {
  "anaconda-cloud": {},
  "kernelspec": {
   "display_name": "Python 3",
   "language": "python",
   "name": "python3"
  },
  "language_info": {
   "codemirror_mode": {
    "name": "ipython",
    "version": 3
   },
   "file_extension": ".py",
   "mimetype": "text/x-python",
   "name": "python",
   "nbconvert_exporter": "python",
   "pygments_lexer": "ipython3",
   "version": "3.6.4"
  }
 },
 "nbformat": 4,
 "nbformat_minor": 1
}
