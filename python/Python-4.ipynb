{
 "cells": [
  {
   "cell_type": "markdown",
   "metadata": {},
   "source": [
    "## Day 4 - Generators and OOP\n",
    "##### Outline\n",
    "\n",
    "\n",
    "- OOP\n",
    "    - dir()\n",
    "    - repr()\n",
    "    - getattr()\n",
    "    - setattr()\n",
    "    - delattr()\n",
    "    - hasattr()\n",
    "    - classmethod()\n",
    "    - property()\n",
    "    - type()\n",
    "    - staticmethod()\n",
    "    - super()\n",
    "    - issubclass()\n",
    "    - isinstance()\n",
    "- Generators\n",
    "    - next()\n",
    "    - iter()"
   ]
  },
  {
   "cell_type": "code",
   "execution_count": 1,
   "metadata": {
    "collapsed": true
   },
   "outputs": [],
   "source": [
    "import random  # Import someone else's code!"
   ]
  },
  {
   "cell_type": "code",
   "execution_count": null,
   "metadata": {
    "collapsed": true
   },
   "outputs": [],
   "source": [
    "class MyObject:\n",
    "    def __init__(self):\n",
    "        self.my_attribute = 'Woot Woot'\n",
    "    \n",
    "    def say_hi(self):\n",
    "        return 'hi!'"
   ]
  },
  {
   "cell_type": "code",
   "execution_count": null,
   "metadata": {
    "collapsed": true
   },
   "outputs": [],
   "source": [
    "my_obj = MyObject()  # Instantiate class"
   ]
  },
  {
   "cell_type": "code",
   "execution_count": null,
   "metadata": {
    "collapsed": true
   },
   "outputs": [],
   "source": [
    "my_obj  # What does this object look like?"
   ]
  },
  {
   "cell_type": "code",
   "execution_count": null,
   "metadata": {
    "collapsed": true
   },
   "outputs": [],
   "source": [
    "my_obj.my_attribute  # How do I access the attribute?"
   ]
  },
  {
   "cell_type": "code",
   "execution_count": null,
   "metadata": {
    "collapsed": true
   },
   "outputs": [],
   "source": [
    "my_obj.say_hi()"
   ]
  },
  {
   "cell_type": "code",
   "execution_count": null,
   "metadata": {
    "collapsed": true
   },
   "outputs": [],
   "source": [
    "dir(my_obj)  # What other attributes are there?"
   ]
  },
  {
   "cell_type": "code",
   "execution_count": null,
   "metadata": {
    "collapsed": true
   },
   "outputs": [],
   "source": [
    "class Pet:\n",
    "    def __init__(self, given_name):  # Dunder method\n",
    "        self.name = given_name\n",
    "    \n",
    "    def cutify_name(self):  # application specific method\n",
    "        return self.name + ' McCutey'"
   ]
  },
  {
   "cell_type": "code",
   "execution_count": null,
   "metadata": {
    "collapsed": true
   },
   "outputs": [],
   "source": [
    "p = Pet('Fred')"
   ]
  },
  {
   "cell_type": "code",
   "execution_count": null,
   "metadata": {
    "collapsed": true
   },
   "outputs": [],
   "source": [
    "p"
   ]
  },
  {
   "cell_type": "code",
   "execution_count": null,
   "metadata": {
    "collapsed": true
   },
   "outputs": [],
   "source": [
    "p.cutify_name()"
   ]
  },
  {
   "cell_type": "code",
   "execution_count": null,
   "metadata": {
    "collapsed": true
   },
   "outputs": [],
   "source": [
    "class Pet:\n",
    "    def __init__(self, name):\n",
    "        self.name = name\n",
    "    \n",
    "    @property  # let's make a method that looks like a property \n",
    "    def cutified_name(self):  # If it doesn't take args/kwargs, might as well make it a property\n",
    "        return self.name + ' McCutey'"
   ]
  },
  {
   "cell_type": "code",
   "execution_count": null,
   "metadata": {
    "collapsed": true
   },
   "outputs": [],
   "source": [
    "p = Pet('Franz')\n",
    "p.cutified_name"
   ]
  },
  {
   "cell_type": "code",
   "execution_count": null,
   "metadata": {
    "collapsed": true
   },
   "outputs": [],
   "source": [
    "class Pet:\n",
    "\n",
    "    def __init__(self, name):\n",
    "        self.name = name\n",
    "\n",
    "    def scramble_name(self):\n",
    "        name_len = len(self.name + ' McCutey')\n",
    "        full_name = self.name + ' McCutey'\n",
    "        chars = random.sample(full_name, name_len)\n",
    "        return ''.join(chars)"
   ]
  },
  {
   "cell_type": "code",
   "execution_count": null,
   "metadata": {
    "collapsed": true
   },
   "outputs": [],
   "source": [
    "p = Pet('Lisa')"
   ]
  },
  {
   "cell_type": "code",
   "execution_count": null,
   "metadata": {
    "collapsed": true
   },
   "outputs": [],
   "source": [
    "p.scramble_name()"
   ]
  },
  {
   "cell_type": "code",
   "execution_count": null,
   "metadata": {
    "collapsed": true
   },
   "outputs": [],
   "source": [
    "import random\n",
    "\n",
    "class Pet:\n",
    "    SUFFIX = ' McCutey'  # class level attributes\n",
    "    legs = []  # Careful! Mutable!\n",
    "\n",
    "    def __init__(self, name):\n",
    "        self.name = name\n",
    "    \n",
    "    def cutify_name(self):\n",
    "        return self.name + self.SUFFIX\n",
    "    \n",
    "    def scramble_name(self):\n",
    "        name_len = len(self.name + self.SUFFIX)\n",
    "        full_name = self.name + self.SUFFIX\n",
    "        chars = random.sample(full_name, name_len)\n",
    "        return ''.join(chars)"
   ]
  },
  {
   "cell_type": "code",
   "execution_count": null,
   "metadata": {
    "collapsed": true
   },
   "outputs": [],
   "source": [
    "luke = Pet('Luke')\n",
    "luke.legs"
   ]
  },
  {
   "cell_type": "code",
   "execution_count": null,
   "metadata": {
    "collapsed": true
   },
   "outputs": [],
   "source": [
    "lisa = Pet('Lisa')\n",
    "lisa.legs.append(1)"
   ]
  },
  {
   "cell_type": "code",
   "execution_count": null,
   "metadata": {
    "collapsed": true
   },
   "outputs": [],
   "source": [
    "luke.legs"
   ]
  },
  {
   "cell_type": "code",
   "execution_count": null,
   "metadata": {
    "collapsed": true
   },
   "outputs": [],
   "source": [
    "luke = Pet('Luke')\n",
    "luke.scramble_name()"
   ]
  },
  {
   "cell_type": "code",
   "execution_count": null,
   "metadata": {
    "collapsed": true
   },
   "outputs": [],
   "source": [
    "peter = Pet('Peter')\n",
    "peter.legs"
   ]
  },
  {
   "cell_type": "code",
   "execution_count": null,
   "metadata": {
    "collapsed": true
   },
   "outputs": [],
   "source": [
    "peter.legs += [1]\n",
    "peter.legs"
   ]
  },
  {
   "cell_type": "code",
   "execution_count": null,
   "metadata": {
    "collapsed": true
   },
   "outputs": [],
   "source": [
    "kitty = Pet('kitty')\n",
    "kitty.legs  # Oh no! Class state was changed."
   ]
  },
  {
   "cell_type": "code",
   "execution_count": null,
   "metadata": {
    "collapsed": true
   },
   "outputs": [],
   "source": [
    "# p (and really Pet) exposes an API that has one method, \n",
    "# one instance level attribute, and one class level attribute. \n",
    "dir(kitty)"
   ]
  },
  {
   "cell_type": "code",
   "execution_count": null,
   "metadata": {
    "collapsed": true,
    "scrolled": true
   },
   "outputs": [],
   "source": [
    "import random\n",
    "\n",
    "class Pet:\n",
    "    SUFFIX = ' McCutey'\n",
    "\n",
    "    def __init__(self, name):\n",
    "        self.name = name\n",
    "        self.__middle_name = 'J'  # Super secret-ish\n",
    "    \n",
    "p = Pet('Kevin')\n",
    "dir(p)"
   ]
  },
  {
   "cell_type": "code",
   "execution_count": null,
   "metadata": {
    "collapsed": true
   },
   "outputs": [],
   "source": [
    "class Vehicle:\n",
    "    MPG = 1\n",
    "    MPHEALTH = 25\n",
    "    \n",
    "    def __init__(self, gas, health):\n",
    "        self.gas = gas\n",
    "        self.health = health\n",
    "        self._odometer = 0\n",
    "        \n",
    "    def travel(self, distance):\n",
    "        gas_to_be_used = distance / self.MPG\n",
    "        if gas_to_be_used > self.gas:\n",
    "            raise ValueError('Can not go the distance. Too little gas')\n",
    "        self.gas -= gas_to_be_used\n",
    "        \n",
    "        health_to_be_used = distance / self.MPHEALTH\n",
    "        if health_to_be_used > self.health:\n",
    "            raise ValueError('Can not go the distance. Too little health. Please bring in for repairs.')\n",
    "        self.health -= health_to_be_used\n",
    "        \n",
    "        self._odometer += distance\n",
    "\n",
    "    def gas_up(self, gas):\n",
    "        self.gas += gas\n",
    "\n",
    "    def maintenance(self, health):\n",
    "        self.health += health\n",
    "    \n",
    "    @property\n",
    "    def odometer(self):\n",
    "        return self._odometer"
   ]
  },
  {
   "cell_type": "code",
   "execution_count": null,
   "metadata": {
    "collapsed": true
   },
   "outputs": [],
   "source": [
    "class Car(Vehicle):\n",
    "    MPG = 45  # Only have to define an MPG. Can reuse so much!\n",
    "    \n",
    "class Truck(Vehicle):\n",
    "    MPG = 25\n",
    "    \n",
    "class Plane(Vehicle):\n",
    "    MPG = 0.13  # Airbus A380"
   ]
  },
  {
   "cell_type": "code",
   "execution_count": null,
   "metadata": {
    "collapsed": true
   },
   "outputs": [],
   "source": [
    "c = Car(1, 100)\n",
    "for _ in range(10):\n",
    "    c.travel(15)\n",
    "    print('Traveled {} miles'.format(c.odometer))"
   ]
  },
  {
   "cell_type": "code",
   "execution_count": null,
   "metadata": {
    "collapsed": true
   },
   "outputs": [],
   "source": [
    "c.gas_up(1)\n",
    "for _ in range(10):\n",
    "    c.travel(15)\n",
    "    print('Traveled {} miles'.format(c.odometer))"
   ]
  },
  {
   "cell_type": "code",
   "execution_count": null,
   "metadata": {
    "collapsed": true
   },
   "outputs": [],
   "source": [
    "\n",
    "c = Car(10, 2)\n",
    "for _ in range(10):\n",
    "    try:\n",
    "        c.travel(20)\n",
    "    except GasToLowError:\n",
    "        pass\n",
    "    print('Traveled {} miles'.format(c.odometer))"
   ]
  },
  {
   "cell_type": "code",
   "execution_count": null,
   "metadata": {
    "collapsed": true
   },
   "outputs": [],
   "source": [
    "p = Plane(1, 100)\n",
    "for _ in range(10):\n",
    "    p.travel(15)\n",
    "    print('Traveled {} miles'.format(p.odometer))"
   ]
  },
  {
   "cell_type": "code",
   "execution_count": null,
   "metadata": {
    "collapsed": true
   },
   "outputs": [],
   "source": [
    "class Parent:\n",
    "\n",
    "    def say_hi(self):\n",
    "        print('hello!')\n",
    "\n",
    "\n",
    "class Child(Parent):\n",
    "\n",
    "    def say_hi(self):\n",
    "        super().say_hi()\n",
    "        print('Whats up!?')\n",
    "\n",
    "\n",
    "print('-- Parent  --')\n",
    "Parent().say_hi()\n",
    "\n",
    "print()\n",
    "print('-- Child --')\n",
    "Child().say_hi()"
   ]
  },
  {
   "cell_type": "code",
   "execution_count": null,
   "metadata": {
    "collapsed": true
   },
   "outputs": [],
   "source": [
    "# Let's create our own exceptions\n",
    "class VehicleError(Exception):\n",
    "    MSG = ''\n",
    "\n",
    "    def __init__(self, *args, **kwargs):\n",
    "        super().__init__(self.MSG, *args, **kwargs)\n",
    "\n",
    "\n",
    "class GasToLowError(VehicleError):\n",
    "    MSG = 'Can not go the distance. Too little gas'\n",
    "\n",
    "\n",
    "class HealthToLowError(VehicleError):\n",
    "    MSG = 'Can not go the distance. Too little health. Please bring in for repairs.'"
   ]
  },
  {
   "cell_type": "code",
   "execution_count": null,
   "metadata": {
    "collapsed": true
   },
   "outputs": [],
   "source": [
    "# Let's use our own exceptions\n",
    "class Vehicle:\n",
    "    MPG = 1\n",
    "    MPHEALTH = 25\n",
    "    \n",
    "    def __init__(self, gas, health):\n",
    "        self.gas = gas\n",
    "        self.health = health\n",
    "        self._odometer = 0\n",
    "        \n",
    "    def travel(self, distance):\n",
    "        gas_to_be_used = distance / self.MPG\n",
    "        if gas_to_be_used > self.gas:\n",
    "            raise GasToLowError()\n",
    "        self.gas -= gas_to_be_used\n",
    "        \n",
    "        health_to_be_used = distance / self.MPHEALTH\n",
    "        if health_to_be_used > self.health:\n",
    "            raise HealthToLowError()\n",
    "        self.health -= health_to_be_used\n",
    "        \n",
    "        self._odometer += distance\n",
    "\n",
    "    def gas_up(self, gas):\n",
    "        self.gas += gas\n",
    "\n",
    "    def maintenance(self, health):\n",
    "        self.health += health\n",
    "    \n",
    "    @property\n",
    "    def odometer(self):\n",
    "        return self._odometer\n",
    "        \n",
    "\n",
    "class Car(Vehicle):\n",
    "    MPG = 45\n",
    "    \n",
    "class Truck(Vehicle):\n",
    "    MPG = 25\n",
    "    \n",
    "class Plane(Vehicle):\n",
    "    MPG = 0.13  # Airbus A380"
   ]
  },
  {
   "cell_type": "code",
   "execution_count": null,
   "metadata": {
    "collapsed": true
   },
   "outputs": [],
   "source": [
    "c = Car(10, 1)\n",
    "for _ in range(10):\n",
    "    c.travel(20)\n",
    "    print('Traveled {} miles'.format(c.odometer))"
   ]
  },
  {
   "cell_type": "code",
   "execution_count": null,
   "metadata": {
    "collapsed": true
   },
   "outputs": [],
   "source": [
    "class BritishCar(Car):\n",
    "    KILOMETERS_PER_MILE = 1.60934\n",
    "\n",
    "    @property\n",
    "    def odometer(self):\n",
    "        return self._odometer * self.KILOMETERS_PER_MILE\n",
    "    \n",
    "    def honk(self):\n",
    "        print('beep beep')\n",
    "\n",
    "\n",
    "bc = BritishCar(100, 100)\n",
    "for _ in range(5):\n",
    "    try:\n",
    "        bc.travel(20)\n",
    "    except GasToLowError:\n",
    "        pass\n",
    "    print('Traveled {} kilomters'.format(bc.odometer))"
   ]
  },
  {
   "cell_type": "code",
   "execution_count": null,
   "metadata": {
    "collapsed": true
   },
   "outputs": [],
   "source": [
    "bc.honk()"
   ]
  },
  {
   "cell_type": "code",
   "execution_count": null,
   "metadata": {
    "collapsed": true
   },
   "outputs": [],
   "source": [
    "c.honk()"
   ]
  },
  {
   "cell_type": "code",
   "execution_count": null,
   "metadata": {
    "collapsed": true
   },
   "outputs": [],
   "source": [
    "p = Plane(1000, 1000)\n",
    "p"
   ]
  },
  {
   "cell_type": "code",
   "execution_count": null,
   "metadata": {
    "collapsed": true
   },
   "outputs": [],
   "source": [
    "class Plane(Vehicle):\n",
    "    MPG = 0.13  # Airbus A380\n",
    "    \n",
    "    def __str__(self):  # define a user friendly display name\n",
    "        return 'Airbus A380'\n",
    "    \n",
    "    def __repr__(self):  # define a very descriptive name\n",
    "        return '<Plane {} {}>'.format(self.gas, self.health)"
   ]
  },
  {
   "cell_type": "code",
   "execution_count": null,
   "metadata": {
    "collapsed": true
   },
   "outputs": [],
   "source": [
    "p = Plane(1000, 1000)\n",
    "p"
   ]
  },
  {
   "cell_type": "code",
   "execution_count": null,
   "metadata": {
    "collapsed": true
   },
   "outputs": [],
   "source": [
    "repr(p)"
   ]
  },
  {
   "cell_type": "code",
   "execution_count": null,
   "metadata": {
    "collapsed": true
   },
   "outputs": [],
   "source": [
    "print('This is the biggest plane: {}'.format(p))"
   ]
  },
  {
   "cell_type": "code",
   "execution_count": null,
   "metadata": {
    "collapsed": true
   },
   "outputs": [],
   "source": [
    "print(p)"
   ]
  },
  {
   "cell_type": "code",
   "execution_count": null,
   "metadata": {
    "collapsed": true
   },
   "outputs": [],
   "source": [
    "class AirBus380(Plane):\n",
    "    def travel(self, distance):\n",
    "        super().travel(distance)\n",
    "        print('TRAVEL LOG - {}'.format(self.odometer))"
   ]
  },
  {
   "cell_type": "code",
   "execution_count": null,
   "metadata": {
    "collapsed": true
   },
   "outputs": [],
   "source": [
    "ab = AirBus380(1e5, 1000)\n",
    "for _ in range(10):\n",
    "    ab.travel(20)"
   ]
  },
  {
   "cell_type": "code",
   "execution_count": null,
   "metadata": {
    "collapsed": true
   },
   "outputs": [],
   "source": [
    "getattr(ab, 'odometer')"
   ]
  },
  {
   "cell_type": "code",
   "execution_count": null,
   "metadata": {
    "collapsed": true
   },
   "outputs": [],
   "source": [
    "setattr(ab, 'wings', 2)"
   ]
  },
  {
   "cell_type": "code",
   "execution_count": null,
   "metadata": {
    "collapsed": true
   },
   "outputs": [],
   "source": [
    "ab.wings"
   ]
  },
  {
   "cell_type": "code",
   "execution_count": null,
   "metadata": {
    "collapsed": true
   },
   "outputs": [],
   "source": [
    "print(hasattr(ab, 'cowboys'))\n",
    "print(hasattr(ab, 'wings'))\n",
    "print(hasattr(ab, 'gas_up'))"
   ]
  },
  {
   "cell_type": "code",
   "execution_count": null,
   "metadata": {
    "collapsed": true
   },
   "outputs": [],
   "source": [
    "type(ab)"
   ]
  },
  {
   "cell_type": "code",
   "execution_count": null,
   "metadata": {
    "collapsed": true
   },
   "outputs": [],
   "source": [
    "isinstance(ab, Plane)"
   ]
  },
  {
   "cell_type": "code",
   "execution_count": null,
   "metadata": {
    "collapsed": true
   },
   "outputs": [],
   "source": [
    "isinstance(ab, Car)"
   ]
  },
  {
   "cell_type": "code",
   "execution_count": null,
   "metadata": {
    "collapsed": true
   },
   "outputs": [],
   "source": [
    "issubclass(Plane, Vehicle)"
   ]
  },
  {
   "cell_type": "code",
   "execution_count": null,
   "metadata": {
    "collapsed": true
   },
   "outputs": [],
   "source": [
    "issubclass(Car, Plane)"
   ]
  },
  {
   "cell_type": "markdown",
   "metadata": {},
   "source": [
    "##### Exercises\n",
    "\n",
    "1. Create an Animal class. The constructor should take a name and age and save those values to the instance. The Animal constructor should raise a `ValueError` if it is given a negative age. \n",
    "2. Create a Human class that subclasses Animal. Raise a `ValueError` if a Human object is created with an age greater than 150. \n",
    "3. Update the Human class to surround the object's name with tildas \"~\" when printed as a string.\n",
    "4. Add a property to the human class that returns a short version of a long name. If the name is longer than 10 characters, return the first seven followed by an ellipsis (...). \n",
    "5. Add a method that increments the person's age by half a year. Create a loop that ages the person and prints Happy birthday with their age. The loop should iterate 5 times."
   ]
  },
  {
   "cell_type": "markdown",
   "metadata": {},
   "source": [
    "### Generators"
   ]
  },
  {
   "cell_type": "code",
   "execution_count": null,
   "metadata": {
    "collapsed": true
   },
   "outputs": [],
   "source": [
    "def gen():\n",
    "    yield 'hi'  # stop processing here\n",
    "    yield 'hello'  # stop processing here\n",
    "    yield 'whats up'  # stop processing here\n",
    "    \n",
    "mygen = gen()\n",
    "\n",
    "print(mygen)\n",
    "print(next(mygen))  # Run until first stop\n",
    "print(next(mygen))  # Run until second stop\n",
    "print(next(mygen))  # Run until third stop\n",
    "print(next(mygen))  # Try to run further..."
   ]
  },
  {
   "cell_type": "code",
   "execution_count": null,
   "metadata": {
    "collapsed": true
   },
   "outputs": [],
   "source": [
    "print(next(mygen))"
   ]
  },
  {
   "cell_type": "code",
   "execution_count": null,
   "metadata": {
    "collapsed": true
   },
   "outputs": [],
   "source": [
    "gen()"
   ]
  },
  {
   "cell_type": "code",
   "execution_count": null,
   "metadata": {
    "collapsed": true
   },
   "outputs": [],
   "source": [
    "mygen = gen()\n",
    "mygen"
   ]
  },
  {
   "cell_type": "code",
   "execution_count": null,
   "metadata": {
    "collapsed": true
   },
   "outputs": [],
   "source": [
    "next(mygen)"
   ]
  },
  {
   "cell_type": "code",
   "execution_count": null,
   "metadata": {
    "collapsed": true
   },
   "outputs": [],
   "source": [
    "next(mygen)"
   ]
  },
  {
   "cell_type": "code",
   "execution_count": null,
   "metadata": {
    "collapsed": true
   },
   "outputs": [],
   "source": [
    "def gen():\n",
    "    yield 'hi'\n",
    "    yield 'hello'\n",
    "    yield 'whats up'\n",
    "    \n",
    "mygen = gen()\n",
    "\n",
    "print('entering loop')\n",
    "for phrase in mygen:\n",
    "    print(phrase)\n",
    "print('left loop')  # loops will run until StopIteration is raised"
   ]
  },
  {
   "cell_type": "code",
   "execution_count": null,
   "metadata": {
    "collapsed": true
   },
   "outputs": [],
   "source": [
    "def gen():\n",
    "    print('Working on item 1')\n",
    "    yield 'item 1'\n",
    "    \n",
    "    print('Working on item 2')\n",
    "    yield 'item 2'\n",
    "\n",
    "mygen = gen()\n",
    "\n",
    "print(next(mygen))\n",
    "# do other things without working on item 2"
   ]
  },
  {
   "cell_type": "code",
   "execution_count": null,
   "metadata": {
    "collapsed": true
   },
   "outputs": [],
   "source": [
    "print(next(mygen))  # when we're ready, evaluate item 2"
   ]
  },
  {
   "cell_type": "code",
   "execution_count": null,
   "metadata": {
    "collapsed": true
   },
   "outputs": [],
   "source": [
    "# lazy evaluation!"
   ]
  },
  {
   "cell_type": "code",
   "execution_count": null,
   "metadata": {
    "collapsed": true
   },
   "outputs": [],
   "source": [
    "def gen(x):\n",
    "    yield from range(x)\n",
    "\n",
    "mygen = gen(5)\n",
    "\n",
    "for i in mygen:\n",
    "    print(i)"
   ]
  },
  {
   "cell_type": "code",
   "execution_count": null,
   "metadata": {
    "collapsed": true
   },
   "outputs": [],
   "source": [
    "list(x**2 for x in range(10))  # python internally createas a generator and then evaluates it into a list"
   ]
  },
  {
   "cell_type": "code",
   "execution_count": null,
   "metadata": {
    "collapsed": true
   },
   "outputs": [],
   "source": [
    "l = [1, 2, 3]\n",
    "next(l)  # lists are not iterators, they are iterables"
   ]
  },
  {
   "cell_type": "code",
   "execution_count": null,
   "metadata": {
    "collapsed": true
   },
   "outputs": [],
   "source": [
    "iterator = iter(l)  # but we can get an iterator that iterates over the contents of a list\n",
    "next(iterator)"
   ]
  },
  {
   "cell_type": "code",
   "execution_count": null,
   "metadata": {
    "collapsed": true
   },
   "outputs": [],
   "source": [
    "for item in [1, 2, 3]:  # for loops create and run an iterator to exhaustion\n",
    "    print(item)"
   ]
  },
  {
   "cell_type": "markdown",
   "metadata": {
    "collapsed": true
   },
   "source": [
    "##### Exercises\n",
    "\n",
    "4. Create a generator that produces the strings \"This\", \"Is\", \"The\", \"Song\", \"That\", \"NEVER\", \"ENDS\" cyclically and at infinitium\n",
    "5. Create a generator that produces consective numbers up to infinity\n",
    "6. Produces the first three items from the previous generator without using a for loop.  "
   ]
  }
 ],
 "metadata": {
  "anaconda-cloud": {},
  "kernelspec": {
   "display_name": "Python 3",
   "language": "python",
   "name": "python3"
  },
  "language_info": {
   "codemirror_mode": {
    "name": "ipython",
    "version": 3
   },
   "file_extension": ".py",
   "mimetype": "text/x-python",
   "name": "python",
   "nbconvert_exporter": "python",
   "pygments_lexer": "ipython3",
   "version": "3.6.3"
  }
 },
 "nbformat": 4,
 "nbformat_minor": 1
}
