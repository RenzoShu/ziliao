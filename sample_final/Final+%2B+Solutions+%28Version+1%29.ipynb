{
 "cells": [
  {
   "cell_type": "markdown",
   "metadata": {
    "collapsed": true
   },
   "source": [
    "### Question 1"
   ]
  },
  {
   "cell_type": "markdown",
   "metadata": {},
   "source": [
    "Create a class to represent a vehicle. The vehicle should be instantiated with a given number of doors, wheels, and kmpl (killometers per liter) as positional arguments. These given values should be stored on the object for retrieval after the object's construction.\n",
    "\n",
    "[1 point]"
   ]
  },
  {
   "cell_type": "code",
   "execution_count": 1,
   "metadata": {},
   "outputs": [],
   "source": [
    "class Vehicle:\n",
    "    def __init__(self,door,wheel,kmpl):\n",
    "        self.door=door\n",
    "        self.wheel=wheel\n",
    "        self.kmpl=kmpl"
   ]
  },
  {
   "cell_type": "code",
   "execution_count": null,
   "metadata": {},
   "outputs": [],
   "source": []
  },
  {
   "cell_type": "code",
   "execution_count": null,
   "metadata": {},
   "outputs": [],
   "source": []
  },
  {
   "cell_type": "code",
   "execution_count": null,
   "metadata": {},
   "outputs": [],
   "source": []
  },
  {
   "cell_type": "code",
   "execution_count": null,
   "metadata": {},
   "outputs": [],
   "source": []
  },
  {
   "cell_type": "code",
   "execution_count": null,
   "metadata": {},
   "outputs": [],
   "source": []
  },
  {
   "cell_type": "code",
   "execution_count": 5,
   "metadata": {
    "collapsed": true
   },
   "outputs": [],
   "source": [
    "class Vehicle:\n",
    "    def __init__(self, doors, wheels, kmpl):\n",
    "        self.doors = doors\n",
    "        self.wheels = wheels\n",
    "        self.kmpl = kmpl"
   ]
  },
  {
   "cell_type": "markdown",
   "metadata": {},
   "source": [
    "- Style: 10%\n",
    "- Use of self as first positional argument: 25%\n",
    "- Use of only positional arguments: 15%\n",
    "- Use of __init__ method: 25%\n",
    "- Values bound to instance upon instantiation: 25%"
   ]
  },
  {
   "cell_type": "markdown",
   "metadata": {},
   "source": [
    "### Question 2"
   ]
  },
  {
   "cell_type": "markdown",
   "metadata": {},
   "source": [
    "Create a class called Isetta that subclasses your vehicle class. Add an initialization method that uses the parent class's initialization method to set the number of doors to 1, the number of wheels to 3, and the number of killometers per liter to 33.3. The Isetta subclass should only accept one positional argument (`vin`) during initialization and that value should be stored on the object under a private attribute. Instantiate an instance of Isetta with a `vin` of `123`.\n",
    "\n",
    "[2 points]"
   ]
  },
  {
   "cell_type": "code",
   "execution_count": 4,
   "metadata": {},
   "outputs": [
    {
     "data": {
      "text/plain": [
       "1"
      ]
     },
     "execution_count": 4,
     "metadata": {},
     "output_type": "execute_result"
    }
   ],
   "source": [
    "class Isetta(Vehicle):\n",
    "    def __init__(self,vin):\n",
    "        super().__init__(door=1,wheel=3,kmpl=33.3)\n",
    "        self._vin=vin\n",
    "Isetta(123).door"
   ]
  },
  {
   "cell_type": "code",
   "execution_count": 18,
   "metadata": {},
   "outputs": [
    {
     "data": {
      "text/plain": [
       "1"
      ]
     },
     "execution_count": 18,
     "metadata": {},
     "output_type": "execute_result"
    }
   ],
   "source": [
    "class Isetta(Vehicle):\n",
    "    def __init__(self, vin):\n",
    "        super().__init__(doors=1, wheels=3, kmpl=33.3)\n",
    "        self._vin = vin\n",
    "\n",
    "# OR \n",
    "\n",
    "class Isetta(Vehicle):\n",
    "    def __init__(self, vin):\n",
    "        Vehicle.__init__(self, doors=1, wheels=3, kmpl=33.3)\n",
    "        self._vin = vin\n",
    "\n",
    "Isetta(123).doors"
   ]
  },
  {
   "cell_type": "markdown",
   "metadata": {},
   "source": [
    "- Style: 10%\n",
    "- Correct subclassing: 25%\n",
    "- Calling of parent's init method: 25%\n",
    "- Binding of vin to Isetta instances: 25%\n",
    "- Instantiation of Isetta class: 15%"
   ]
  },
  {
   "cell_type": "markdown",
   "metadata": {},
   "source": [
    "### Question 3"
   ]
  },
  {
   "cell_type": "markdown",
   "metadata": {},
   "source": [
    "Copy the `Isetta` class from above. Update the copied `Isetta` class from Question 2 to contain two new methods. \n",
    "\n",
    "One of the methods should customize the way instances of `Isetta` are printed when passed to the builtin function `print`. The other method should customize the way instnaces of `Isetta` are displayed when passed to the builtin function `repr`. Both methods should use template strings / string replacement (rather than string concatination) to build their result. Both methods should be written to meet the following specification:\n",
    "\n",
    "```python\n",
    ">>> my_isetta = Isetta(123)\n",
    ">>> print(my_isetta)\n",
    "<Isetta VIN: 123>\n",
    ">>> repr(my_isetta)\n",
    "'<Isetta VIN: 123, (1, 3, 33.3)>'\n",
    "```\n",
    "\n",
    "None of the values passed during vechile instantiation or Isetta instantiation should be hard coded into the result of either of these methods (ie. If a vehicle or Isetta is instantiated with different numbers than those described in these past three problems, these two methods should return different results).\n",
    "\n",
    "[2 points]"
   ]
  },
  {
   "cell_type": "code",
   "execution_count": 7,
   "metadata": {},
   "outputs": [],
   "source": [
    "class Isetta(Vehicle):\n",
    "    def __init__(self,vin):\n",
    "        super().__init__(door=1,wheel=3,kmpl=33.3)\n",
    "        self._vin=vin\n",
    "    def __str__(self):\n",
    "        return '<Isetta VIN:{}>'.format(self._vin)\n",
    "    def __repr__(self):\n",
    "        return '<Isetta VIN: {}, ({}, {}, {}>'.format(self._vin, self.door,self.wheel,self.kmpl)"
   ]
  },
  {
   "cell_type": "code",
   "execution_count": 9,
   "metadata": {},
   "outputs": [
    {
     "data": {
      "text/plain": [
       "'<Isetta VIN: 123, (1, 3, 33.3>'"
      ]
     },
     "execution_count": 9,
     "metadata": {},
     "output_type": "execute_result"
    }
   ],
   "source": [
    "my_isetta = Isetta(123)\n",
    "repr(my_isetta)"
   ]
  },
  {
   "cell_type": "code",
   "execution_count": 19,
   "metadata": {
    "collapsed": true
   },
   "outputs": [],
   "source": [
    "class Isetta(Vehicle):\n",
    "    def __init__(self, vin):\n",
    "        super().__init__(doors=1, wheels=3, kmpl=33.3)  # use of kwargs are optional\n",
    "        self._vin = vin\n",
    "    \n",
    "    def __str__(self):\n",
    "        return '<Isetta VIN: {}>'.format(self._vin)\n",
    "    \n",
    "    def __repr__(self):\n",
    "        return '<Isetta VIN: {} {}>'.format(self._vin, (self.doors, self.wheels, self.kmpl))"
   ]
  },
  {
   "cell_type": "markdown",
   "metadata": {},
   "source": [
    "- Style: 10%\n",
    "- __str__ method defined correctly: 45%\n",
    "  - Use of variables passed to template string: 20%\n",
    "  - Use of return statement: 25%\n",
    "- __repr__ method defined correctly: 45%\n",
    "  - Use of variables passed to template string: 20%\n",
    "  - Use of return statement: 25%"
   ]
  },
  {
   "cell_type": "markdown",
   "metadata": {},
   "source": [
    "### Question 4"
   ]
  },
  {
   "cell_type": "markdown",
   "metadata": {},
   "source": [
    "`random.randint(A, B)` produces a random integer beteen A and B, inclusive. Write the shortest snippet of code possible that calculates the intersection of the following two objects? \n",
    "\n",
    "```python\n",
    "s1 = {random.randint(1, 10) for _ in range(10)}\n",
    "s2 = {random.randint(1, 10) for _ in range(10)}\n",
    "```\n",
    "\n",
    "[1 point]"
   ]
  },
  {
   "cell_type": "code",
   "execution_count": 10,
   "metadata": {},
   "outputs": [
    {
     "ename": "NameError",
     "evalue": "name 's1' is not defined",
     "output_type": "error",
     "traceback": [
      "\u001b[1;31m---------------------------------------------------------------------------\u001b[0m",
      "\u001b[1;31mNameError\u001b[0m                                 Traceback (most recent call last)",
      "\u001b[1;32m<ipython-input-10-c8d429ca6277>\u001b[0m in \u001b[0;36m<module>\u001b[1;34m()\u001b[0m\n\u001b[1;32m----> 1\u001b[1;33m \u001b[0ms1\u001b[0m \u001b[1;33m&\u001b[0m \u001b[0ms2\u001b[0m\u001b[1;33m\u001b[0m\u001b[0m\n\u001b[0m",
      "\u001b[1;31mNameError\u001b[0m: name 's1' is not defined"
     ]
    }
   ],
   "source": [
    "s1 & s2"
   ]
  },
  {
   "cell_type": "markdown",
   "metadata": {},
   "source": [
    "- Style: 10%\n",
    "- Correct answer: 50%\n",
    "- Simplicity/Shortness: 40%"
   ]
  },
  {
   "cell_type": "markdown",
   "metadata": {},
   "source": [
    "### Question 5"
   ]
  },
  {
   "cell_type": "markdown",
   "metadata": {},
   "source": [
    "#### SIMPLIFY THIS QUESTION\n",
    "\n",
    "Create a function `multiply` that takes an integer (`x`) and returns a list of the first ten odd multiples of that number. The first number should be `x` itself. There may be integers for which this function returns an empty list.\n",
    "\n",
    "For example: \n",
    "\n",
    "```python\n",
    ">>> multiply(3)\n",
    "... [3, 9, 15, 21, 27, 33, 39, 45, 51, 57]\n",
    "```\n",
    "\n",
    "[1 point]"
   ]
  },
  {
   "cell_type": "code",
   "execution_count": 1,
   "metadata": {},
   "outputs": [
    {
     "data": {
      "text/plain": [
       "[3, 9, 15, 21, 27, 33, 39, 45, 51, 57]"
      ]
     },
     "execution_count": 1,
     "metadata": {},
     "output_type": "execute_result"
    }
   ],
   "source": [
    "def multiply(x):\n",
    "    ret = []\n",
    "    y = 1\n",
    "    while len(ret) < 10:\n",
    "        multiple = y * x\n",
    "        if multiple % 2:\n",
    "            ret.append(multiple)\n",
    "        y += 1\n",
    "    return ret\n",
    "\n",
    "multiply(3)"
   ]
  },
  {
   "cell_type": "markdown",
   "metadata": {
    "collapsed": true
   },
   "source": [
    "- Style: 10%\n",
    "- Correct return value: 90%\n",
    "  - Variable partial credit dependent upon clarity of code"
   ]
  },
  {
   "cell_type": "markdown",
   "metadata": {},
   "source": [
    "### Question 6"
   ]
  },
  {
   "cell_type": "markdown",
   "metadata": {},
   "source": [
    "Write a script to fetch the content at a given url and returns a set of URLs found on the page. You can assume that only anchor tags contain URLs. Ie.\n",
    "\n",
    "```python\n",
    "def get_urls(url):\n",
    "    # implement me...\n",
    "```\n",
    "    \n",
    "You can assume that the requests and beautifulsoup4 libraries are available in the virtual environment in which your program containing this function will be run.\n",
    "\n",
    "[1 point]"
   ]
  },
  {
   "cell_type": "code",
   "execution_count": 3,
   "metadata": {
    "collapsed": true
   },
   "outputs": [],
   "source": [
    "import bs4\n",
    "import requests\n",
    "\n",
    "\n",
    "def get_urls(url):\n",
    "\n",
    "    response = requests.get(url)\n",
    "    \n",
    "    soup = bs4.BeautifulSoup(response.content, 'html.parser')\n",
    "    \n",
    "    return {a['href'] for a in soup.find_all('a')}"
   ]
  },
  {
   "cell_type": "markdown",
   "metadata": {},
   "source": [
    "- Style: 10%\n",
    "- Use of requests: 15%\n",
    "- Use of context manager keyword `with`: 25%\n",
    "- Use of `open`: 25%\n",
    "- Correct `write` call on file handle: 25%"
   ]
  },
  {
   "cell_type": "markdown",
   "metadata": {},
   "source": [
    "### Question 7"
   ]
  },
  {
   "cell_type": "markdown",
   "metadata": {},
   "source": [
    "Write a function `interval_sum` that takes two numbers (`x` and `y` where `x` < `y`) and finds the sum of all numbers between them (inlcusively). Ie.\n",
    "\n",
    "```python\n",
    ">>> interval_sum(1, 3)\n",
    "6\n",
    "```\n",
    "\n",
    "[1 point]"
   ]
  },
  {
   "cell_type": "code",
   "execution_count": 1,
   "metadata": {
    "collapsed": true
   },
   "outputs": [],
   "source": [
    "# option 1\n",
    "def interval_sum(x, y):\n",
    "    return sum(range(y + 1)) - sum(range(x))\n",
    "\n",
    "# option 2\n",
    "def interval_sum(x, y):\n",
    "    return sum(range(y)) - sum(range(x)) + y\n",
    "\n",
    "# option 3\n",
    "def interval_sum(x, y):    \n",
    "    return sum(set(range(y)) - set(range(x))) + y"
   ]
  },
  {
   "cell_type": "markdown",
   "metadata": {},
   "source": [
    "- Style: 10%\n",
    "- Correct return value: 25%\n",
    "- Clarity of code: 65%"
   ]
  },
  {
   "cell_type": "markdown",
   "metadata": {},
   "source": [
    "### Question 8"
   ]
  },
  {
   "cell_type": "markdown",
   "metadata": {},
   "source": [
    "Write a set comprehension that, when evaluated, contains all the mutiples of 4 between 0 and 100 inclusive. Have the comprehension use a conditional to check if a value should be included in the resultant set.\n",
    "\n",
    "[1 point]"
   ]
  },
  {
   "cell_type": "code",
   "execution_count": 17,
   "metadata": {
    "collapsed": true
   },
   "outputs": [],
   "source": [
    "{x for x in range(101) if x % 4 == 0}"
   ]
  },
  {
   "cell_type": "markdown",
   "metadata": {},
   "source": [
    "- Style: 10%\n",
    "- Use of comprehension: 40%\n",
    "- Use of conditional: 25%\n",
    "- Correct result: 25%"
   ]
  },
  {
   "cell_type": "markdown",
   "metadata": {},
   "source": [
    "### Question 9"
   ]
  },
  {
   "cell_type": "markdown",
   "metadata": {},
   "source": [
    "Write a fucntion `wrap_values_in_lists` that takes a dictionary and mutates that dictionary such that each value in the dictionary is wrapped in a list. Ie. \n",
    "\n",
    "```python\n",
    ">>> d = {\n",
    "...     'key1': 'value1',\n",
    "...     'key2': 'value2',\n",
    "... }\n",
    ">>> wrap_values_in_lists(d)\n",
    ">>> d\n",
    "{'key1': ['value1'], 'key2': ['value2']}\n",
    "```\n",
    "\n",
    "[1 point]"
   ]
  },
  {
   "cell_type": "code",
   "execution_count": 14,
   "metadata": {
    "collapsed": true
   },
   "outputs": [],
   "source": [
    "def wrap_values_in_lists(d):\n",
    "    for key, value in d.items():\n",
    "        d[key] = [value]"
   ]
  },
  {
   "cell_type": "markdown",
   "metadata": {},
   "source": [
    "- Style: 10%\n",
    "- Mutation of passed dictionary: 40%\n",
    "- Correct result: 25%\n",
    "- Correct signature: 25%"
   ]
  },
  {
   "cell_type": "markdown",
   "metadata": {},
   "source": [
    "### Question 10"
   ]
  },
  {
   "cell_type": "markdown",
   "metadata": {},
   "source": [
    "Write a fucntion `wrap_values_in_lists` that takes a dictionary and returns a new dictionary. Each key from the given dictionary should be in the new dictionary and each value in the old dictionary should be wrapped in a list in the new dictionary. Ie.\n",
    "\n",
    "```python\n",
    ">>> d = {\n",
    "...     'key1': 'value1',\n",
    "...     'key2': 'value2',\n",
    "... }\n",
    ">>> wrap_values_in_lists(d)\n",
    "{'key1': ['value1'], 'key2': ['value2']}\n",
    ">>> d\n",
    "{'key1': 'value1', 'key2': 'value2'}\n",
    "```\n",
    "\n",
    "This is NOT the same question as above. \n",
    "\n",
    "[1 point]"
   ]
  },
  {
   "cell_type": "code",
   "execution_count": 15,
   "metadata": {
    "collapsed": true
   },
   "outputs": [],
   "source": [
    "def wrap_values_in_lists(d):\n",
    "    return {key: [value] for key, value in d.items()}"
   ]
  },
  {
   "cell_type": "markdown",
   "metadata": {},
   "source": [
    "- Style: 10%\n",
    "- Copy of passed dictionary: 40%\n",
    "- Correct result: 25%\n",
    "- Correct signature: 25%"
   ]
  },
  {
   "cell_type": "markdown",
   "metadata": {},
   "source": [
    "### Question 11"
   ]
  },
  {
   "cell_type": "markdown",
   "metadata": {},
   "source": [
    "Write a single function to parse a string date time of the form `'%Y-%m-%dT%H:%M:%S'` or `'%Y-%m-%d %H:%M:%S'`. The function should attempt to parse a string date time with the first pattern and upon any exception, attempt parsing the date time with the second pattern. Catch only those exceptions that would result from a parse error of the datetime string passed into your function. The `strptime` method is located on the `datetime.datetime` class; ie. `datetime.datetime.strptime`.\n",
    "\n",
    "[1 point]"
   ]
  },
  {
   "cell_type": "code",
   "execution_count": null,
   "metadata": {},
   "outputs": [],
   "source": []
  },
  {
   "cell_type": "code",
   "execution_count": null,
   "metadata": {
    "collapsed": true
   },
   "outputs": [],
   "source": [
    "def parse_datetime(datetime_string):\n",
    "    try:\n",
    "        return datetime.datetime.strptime(datetime_string, '%Y-%m-%dT%H:%M:%S')\n",
    "    except (TypeError, ValueError):\n",
    "        return datetime.datetime.strptime(datetime_string, '%Y-%m-%d %H:%M:%S')"
   ]
  },
  {
   "cell_type": "markdown",
   "metadata": {},
   "source": [
    "- Style: 10%\n",
    "- Correct signature: 10%\n",
    "- Correct use of strptime: 15%\n",
    "- Correct return value: 25%\n",
    "- Use of try...except statement: 25%\n",
    "- Correct exceptions caught: 15%"
   ]
  },
  {
   "cell_type": "markdown",
   "metadata": {},
   "source": [
    "### Question 12"
   ]
  },
  {
   "cell_type": "markdown",
   "metadata": {},
   "source": [
    "Complete the recurisve function:\n",
    "\n",
    "    def flatten(obj):\n",
    "        \"\"\"\n",
    "        This function should take a nested dictionary strucutre of unknown \n",
    "        depth and flatten its keys and values into a single dictonary. \n",
    "        The values at keys in deeper dicts should take precedence over \n",
    "        the values in the higher dicts that contain them. For consistency,\n",
    "        the items in ``obj`` should be sorted before de-nesting.\n",
    "\n",
    "        >>> flatten({'a': {'a': True, 'b': {'b': False}}, 'c': None})\n",
    "        {'a': True, 'b': False, 'c': None}\n",
    "        \"\"\"\n",
    "        flattened_dict = {}\n",
    "        for key, value in sorted(obj.items()):\n",
    "            if isinstance(value, dict):\n",
    "                # FILL ME IN\n",
    "            else:\n",
    "                # FILL ME IN\n",
    "\n",
    "        return flattened_dict\n",
    "        \n",
    "[2 points]"
   ]
  },
  {
   "cell_type": "code",
   "execution_count": 14,
   "metadata": {
    "collapsed": true
   },
   "outputs": [],
   "source": [
    "def flatten(obj):\n",
    "    \"\"\"\n",
    "    This function should take a nested dictionary strucutre of unknown \n",
    "    depth and flatten its keys and values into a single dictonary. \n",
    "    The values at keys in deeper dicts should take precedence over \n",
    "    the values in the higher dicts that contain them. For consistency,\n",
    "    the items in ``obj`` should be sorted before de-nesting.\n",
    "    \n",
    "    >>> flatten({'a': {'a': True, 'b': {'b': False}}, 'c': None})\n",
    "    {'a': True, 'b': False, 'c': None}\n",
    "    \"\"\"\n",
    "    flattened_dict = {}\n",
    "    for key, value in sorted(obj.items()):\n",
    "        if isinstance(value, dict):\n",
    "            flattened_dict.update(flatten(value))\n",
    "        else:\n",
    "            flattened_dict[key] = value\n",
    "\n",
    "    return flattened_dict"
   ]
  },
  {
   "cell_type": "markdown",
   "metadata": {
    "collapsed": true
   },
   "source": [
    "- Style: 10%\n",
    "- Simplicity: 15%\n",
    "- Reuse of flatten correctly: 50%\n",
    "- Correct return value: 25%"
   ]
  },
  {
   "cell_type": "markdown",
   "metadata": {},
   "source": [
    "### Question 13"
   ]
  },
  {
   "cell_type": "markdown",
   "metadata": {},
   "source": [
    "Create a function like mechanism named `parse_values` that takes a multi-line string and returns each line as a tuple of values. Assume each line in the multi-line blob of text passed to the mechanism will contain values separated by a tilda (`~`). The process of separating the values based on their delimeter will need to be done for each row. However, this row operation should only be done on an as needed basis. That is to say, if only the first row of the file is needed, the separation operation should only be done on the first row. Ignore empty (or only whitespace) rows at the beginning and end of the string.\n",
    "\n",
    "```\n",
    "def parse_values(string):\n",
    "    # implement me\n",
    "    pass\n",
    "    \n",
    " \n",
    "# example file_contents\n",
    "\"\"\"\n",
    "1~2~3\n",
    "hi~this~is~great\n",
    "I think I can~I think I can~I think I can\n",
    "\"\"\"\n",
    "\n",
    "# example results\n",
    "('1', '2', '3')\n",
    "('hi', 'this', 'is', 'great')\n",
    "('I think I can', 'I think I can', 'I think I can')\n",
    "```\n",
    "\n",
    "[2 points]"
   ]
  },
  {
   "cell_type": "code",
   "execution_count": 21,
   "metadata": {
    "collapsed": true
   },
   "outputs": [],
   "source": [
    "def parse_values(string):\n",
    "    rows = string.strip().split('\\n')\n",
    "    for row in rows:\n",
    "        yield tuple(row.split('~'))"
   ]
  },
  {
   "cell_type": "markdown",
   "metadata": {},
   "source": [
    "- Style: 10%\n",
    "- Use of generator: 30%\n",
    "- Yields tuples: 15%\n",
    "- Major body processing done before for loop: 15%\n",
    "- Row processing only done when neeeded: 30%"
   ]
  }
 ],
 "metadata": {
  "anaconda-cloud": {},
  "kernelspec": {
   "display_name": "Python 3",
   "language": "python",
   "name": "python3"
  },
  "language_info": {
   "codemirror_mode": {
    "name": "ipython",
    "version": 3
   },
   "file_extension": ".py",
   "mimetype": "text/x-python",
   "name": "python",
   "nbconvert_exporter": "python",
   "pygments_lexer": "ipython3",
   "version": "3.6.4"
  }
 },
 "nbformat": 4,
 "nbformat_minor": 1
}
