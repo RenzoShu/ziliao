{
 "cells": [
  {
   "cell_type": "markdown",
   "metadata": {},
   "source": [
    "READ ME:\n",
    "\n",
    "Permissions for this test: \n",
    "\n",
    "- No talking.\n",
    "- This is a closed note, closed book, closed internet exam.\n",
    "- You may have one jupyter notebook (this notebook) open for the duration of the exam.\n",
    "- You may have courseworks/canvas open solely for the act fo submitting your exam.\n",
    "- You may have google forms open solely for the act of submitting you survey.\n",
    "\n",
    "When you are done with your exam:\n",
    "\n",
    "1. Rename the notebook to be of the form `final_<uni>`. For example, mine would be `final_pl2648`.\n",
    "1. Save this exam.\n",
    "1. Download this exam as an `.ipynb` file.\n",
    "1. Upload the file to courseworks. \n",
    "1. Complete the survey question at the end of the exam.\n",
    "\n",
    "----"
   ]
  },
  {
   "cell_type": "markdown",
   "metadata": {
    "collapsed": true
   },
   "source": [
    "### Question 1"
   ]
  },
  {
   "cell_type": "markdown",
   "metadata": {},
   "source": [
    "Create a class to represent a building. The building should be instantiated with a given number of doors, windows, and an address as positional arguments. These given values should be stored on the object for retrieval after the object's construction.\n",
    "\n",
    "[1 point]"
   ]
  },
  {
   "cell_type": "code",
   "execution_count": 1,
   "metadata": {
    "collapsed": true
   },
   "outputs": [],
   "source": [
    "class Building:\n",
    "    def __init__(self, doors, windows, address):\n",
    "        self.doors = doors\n",
    "        self.windows = windows\n",
    "        self.address = address"
   ]
  },
  {
   "cell_type": "markdown",
   "metadata": {},
   "source": [
    "- Style: 10%\n",
    "- Use of self as first positional argument: 25%\n",
    "- Use of only positional arguments: 15%\n",
    "- Use of __init__ method: 25%\n",
    "- Values bound to instance upon instantiation: 25%"
   ]
  },
  {
   "cell_type": "markdown",
   "metadata": {},
   "source": [
    "### Question 2"
   ]
  },
  {
   "cell_type": "markdown",
   "metadata": {},
   "source": [
    "Create a class called SingleFamilyHome that subclasses your Building class. Add an initialization method that uses the parent class's initialization method to set the number of doors to 2, the number of windows to 8. The SingleFamilyHome subclass should only accept one positional argument (`address`) during initialization and that value should be passed to the parent's initialization method. Instantiate an instance of SingleFamilyHome with an `address` of `'123 Fake Street'`.\n",
    "\n",
    "[2 points]"
   ]
  },
  {
   "cell_type": "code",
   "execution_count": 2,
   "metadata": {},
   "outputs": [
    {
     "data": {
      "text/plain": [
       "<__main__.SingleFamilyHome at 0x10c0a0d30>"
      ]
     },
     "execution_count": 2,
     "metadata": {},
     "output_type": "execute_result"
    }
   ],
   "source": [
    "class SingleFamilyHome(Building):\n",
    "    def __init__(self, address):\n",
    "        super().__init__(doors=2, windows=8, address=address)\n",
    "\n",
    "# OR \n",
    "\n",
    "class SingleFamilyHome(Building):\n",
    "    def __init__(self, address):\n",
    "        Building.__init__(self, doors=2, windows=8, address=address)\n",
    "\n",
    "SingleFamilyHome('123 Fake Street')"
   ]
  },
  {
   "cell_type": "markdown",
   "metadata": {},
   "source": [
    "- Style: 10%\n",
    "- Correct subclassing: 25%\n",
    "- Calling of parent's init method: 25%\n",
    "- Passing of address to parent's init method: 25%\n",
    "- Instantiation of SingleFamilyHome class: 15%"
   ]
  },
  {
   "cell_type": "markdown",
   "metadata": {},
   "source": [
    "### Question 3"
   ]
  },
  {
   "cell_type": "markdown",
   "metadata": {},
   "source": [
    "Copy the `SingleFamilyHome` class from above. Update the copied `SingleFamilyHome` class from Question 2 to contain two new methods. \n",
    "\n",
    "One of the methods should customize the way instances of `SingleFamilyHome` are printed when passed to the builtin function `print`. The other method should customize the way instnaces of `SingleFamilyHome` are displayed when passed to the builtin function `repr`. Both methods should use template strings / string replacement (rather than string concatination) to build their result. Both methods should be written to meet the following specification:\n",
    "\n",
    "```python\n",
    ">>> home = SingleFamilyHome('123 Fake St')\n",
    ">>> print(home)\n",
    "<SingleFamilyHome Addr: 123 Fake St>\n",
    ">>> repr(home)\n",
    "'<SingleFamilyHome Addr: 123 Fake St / D2 / W8>'\n",
    "```\n",
    "\n",
    "None of the values passed during building instantiation or SingleFamilyHome instantiation should be hard coded into the result of either of these methods (ie. If a building or SingleFamilyHome is instantiated with different numbers than those described in these past three problems, these two methods should return different results).\n",
    "\n",
    "[2 points]"
   ]
  },
  {
   "cell_type": "code",
   "execution_count": 4,
   "metadata": {},
   "outputs": [
    {
     "name": "stdout",
     "output_type": "stream",
     "text": [
      "<SingleFamilyHome Addr: 123 Fake St>\n"
     ]
    },
    {
     "data": {
      "text/plain": [
       "<SingleFamilyHome Addr: 123 Fake St / D2 / W8>"
      ]
     },
     "execution_count": 4,
     "metadata": {},
     "output_type": "execute_result"
    }
   ],
   "source": [
    "class SingleFamilyHome(Building):\n",
    "    def __init__(self, address):\n",
    "        super().__init__(doors=2, windows=8, address=address)\n",
    "    \n",
    "    def __str__(self):\n",
    "        return '<SingleFamilyHome Addr: {}>'.format(self.address)\n",
    "    \n",
    "    def __repr__(self):\n",
    "        return '<SingleFamilyHome Addr: {} / D{} / W{}>'.format(self.address, self.doors, self.windows)\n",
    "    \n",
    "# Test\n",
    "home = SingleFamilyHome('123 Fake St')\n",
    "print(home)\n",
    "home"
   ]
  },
  {
   "cell_type": "markdown",
   "metadata": {},
   "source": [
    "- Style: 10%\n",
    "- __str__ method defined correctly: 45%\n",
    "  - Use of variables passed to template string: 20%\n",
    "  - Use of return statement: 25%\n",
    "- __repr__ method defined correctly: 45%\n",
    "  - Use of variables passed to template string: 20%\n",
    "  - Use of return statement: 25%"
   ]
  },
  {
   "cell_type": "markdown",
   "metadata": {},
   "source": [
    "### Question 4"
   ]
  },
  {
   "cell_type": "code",
   "execution_count": 1,
   "metadata": {
    "collapsed": true
   },
   "outputs": [],
   "source": [
    "# Removed"
   ]
  },
  {
   "cell_type": "markdown",
   "metadata": {},
   "source": [
    "### Question 5"
   ]
  },
  {
   "cell_type": "markdown",
   "metadata": {},
   "source": [
    "Create a function `guess` that takes three positive integers (`a`, `b`, `x`). Call `random.randint` with `a` as the lower bound and `b` as the upper bound unitl `random.randint` returns `x`. Return the number of times `random.randint` was called. Raise a `ValueError` if `x` is not between `a` and `b` inclusive. `random.randint` should only be written once within `guess`.\n",
    "\n",
    "For example: \n",
    "\n",
    "```python\n",
    ">>> guess(1, 10, 3)\n",
    "... 5\n",
    ">>> guess(1, 10, 3)\n",
    "... 8\n",
    ">>> guess(1, 10, 30)\n",
    "    ...\n",
    "ValueError: 30 is not between 1 and 10\n",
    "```\n",
    "\n",
    "[2 points]"
   ]
  },
  {
   "cell_type": "code",
   "execution_count": 12,
   "metadata": {},
   "outputs": [
    {
     "name": "stdout",
     "output_type": "stream",
     "text": [
      "4\n"
     ]
    },
    {
     "ename": "ValueError",
     "evalue": "30 is not between 1 and 10",
     "output_type": "error",
     "traceback": [
      "\u001b[0;31m---------------------------------------------------------------------------\u001b[0m",
      "\u001b[0;31mValueError\u001b[0m                                Traceback (most recent call last)",
      "\u001b[0;32m<ipython-input-12-ad86f7a34551>\u001b[0m in \u001b[0;36m<module>\u001b[0;34m()\u001b[0m\n\u001b[1;32m     16\u001b[0m \u001b[0mprint\u001b[0m\u001b[0;34m(\u001b[0m\u001b[0mguess\u001b[0m\u001b[0;34m(\u001b[0m\u001b[0;36m1\u001b[0m\u001b[0;34m,\u001b[0m \u001b[0;36m10\u001b[0m\u001b[0;34m,\u001b[0m \u001b[0;36m3\u001b[0m\u001b[0;34m)\u001b[0m\u001b[0;34m)\u001b[0m\u001b[0;34m\u001b[0m\u001b[0m\n\u001b[1;32m     17\u001b[0m \u001b[0;34m\u001b[0m\u001b[0m\n\u001b[0;32m---> 18\u001b[0;31m \u001b[0mguess\u001b[0m\u001b[0;34m(\u001b[0m\u001b[0;36m1\u001b[0m\u001b[0;34m,\u001b[0m \u001b[0;36m10\u001b[0m\u001b[0;34m,\u001b[0m \u001b[0;36m30\u001b[0m\u001b[0;34m)\u001b[0m\u001b[0;34m\u001b[0m\u001b[0m\n\u001b[0m",
      "\u001b[0;32m<ipython-input-12-ad86f7a34551>\u001b[0m in \u001b[0;36mguess\u001b[0;34m(a, b, x)\u001b[0m\n\u001b[1;32m      4\u001b[0m \u001b[0;32mdef\u001b[0m \u001b[0mguess\u001b[0m\u001b[0;34m(\u001b[0m\u001b[0ma\u001b[0m\u001b[0;34m,\u001b[0m \u001b[0mb\u001b[0m\u001b[0;34m,\u001b[0m \u001b[0mx\u001b[0m\u001b[0;34m)\u001b[0m\u001b[0;34m:\u001b[0m\u001b[0;34m\u001b[0m\u001b[0m\n\u001b[1;32m      5\u001b[0m     \u001b[0;32mif\u001b[0m \u001b[0;32mnot\u001b[0m \u001b[0ma\u001b[0m \u001b[0;34m<=\u001b[0m \u001b[0mx\u001b[0m \u001b[0;34m<=\u001b[0m \u001b[0mb\u001b[0m\u001b[0;34m:\u001b[0m\u001b[0;34m\u001b[0m\u001b[0m\n\u001b[0;32m----> 6\u001b[0;31m         \u001b[0;32mraise\u001b[0m \u001b[0mValueError\u001b[0m\u001b[0;34m(\u001b[0m\u001b[0;34mf'{x} is not between {a} and {b}'\u001b[0m\u001b[0;34m)\u001b[0m\u001b[0;34m\u001b[0m\u001b[0m\n\u001b[0m\u001b[1;32m      7\u001b[0m \u001b[0;34m\u001b[0m\u001b[0m\n\u001b[1;32m      8\u001b[0m     \u001b[0mguess_x\u001b[0m \u001b[0;34m=\u001b[0m \u001b[0;32mNone\u001b[0m\u001b[0;34m\u001b[0m\u001b[0m\n",
      "\u001b[0;31mValueError\u001b[0m: 30 is not between 1 and 10"
     ]
    }
   ],
   "source": [
    "import random\n",
    "\n",
    "\n",
    "def guess(a, b, x):\n",
    "    if not a <= x <= b:\n",
    "        raise ValueError(f'{x} is not between {a} and {b}')\n",
    "    \n",
    "    guess_x = None\n",
    "    i = 0\n",
    "    while guess_x != x:\n",
    "        guess_x = random.randint(a, b)\n",
    "        i += 1\n",
    "    \n",
    "    return i\n",
    "\n",
    "# Test\n",
    "print(guess(1, 10, 3))\n",
    "\n",
    "guess(1, 10, 30)"
   ]
  },
  {
   "cell_type": "markdown",
   "metadata": {
    "collapsed": true
   },
   "source": [
    "- Style: 10%\n",
    "- Single while loop: 50%\n",
    "- Raising of ValueError correctly: 25%\n",
    "- Called `random.randint` only once: 15%"
   ]
  },
  {
   "cell_type": "markdown",
   "metadata": {},
   "source": [
    "### Question 6"
   ]
  },
  {
   "cell_type": "markdown",
   "metadata": {},
   "source": [
    "Write a function `interval_product` that takes two integers (`x` and `y` where `x` < `y`) and finds the product of all integers between them (inlcusively). Ie.\n",
    "\n",
    "```python\n",
    ">>> interval_product(1, 5)\n",
    "120\n",
    "```\n",
    "\n",
    "[1 point]"
   ]
  },
  {
   "cell_type": "code",
   "execution_count": 14,
   "metadata": {},
   "outputs": [
    {
     "data": {
      "text/plain": [
       "120"
      ]
     },
     "execution_count": 14,
     "metadata": {},
     "output_type": "execute_result"
    }
   ],
   "source": [
    "def interval_product(x, y):\n",
    "    val = 1\n",
    "    for j in range(x, y + 1):\n",
    "        val *= j\n",
    "    return val\n",
    "\n",
    "interval_product(1, 5)"
   ]
  },
  {
   "cell_type": "markdown",
   "metadata": {},
   "source": [
    "- Style: 10%\n",
    "- Correct return value: 25%\n",
    "- Clarity of code: 65%"
   ]
  },
  {
   "cell_type": "markdown",
   "metadata": {},
   "source": [
    "### Question 7"
   ]
  },
  {
   "cell_type": "markdown",
   "metadata": {},
   "source": [
    "Write a function `get_set` that evaluates a set comprehension and returns the resultant set. The set comphrension, when evaluated, contains all the mutiples of 3 between 0 and 50 inclusive. Have the comprehension use a conditional to check if a value should be included in the resultant set.\n",
    "\n",
    "```python\n",
    ">>> get_set()\n",
    "{0, 3, 6, 9, 12, 15, 18, 21, 24, 27, 30, 33, 36, 39, 42, 45, 48}\n",
    "```\n",
    "\n",
    "[1 point]"
   ]
  },
  {
   "cell_type": "code",
   "execution_count": 17,
   "metadata": {},
   "outputs": [
    {
     "data": {
      "text/plain": [
       "{0, 3, 6, 9, 12, 15, 18, 21, 24, 27, 30, 33, 36, 39, 42, 45, 48}"
      ]
     },
     "execution_count": 17,
     "metadata": {},
     "output_type": "execute_result"
    }
   ],
   "source": [
    "def get_set():\n",
    "    return {x for x in range(50) if x % 3 == 0}"
   ]
  },
  {
   "cell_type": "markdown",
   "metadata": {},
   "source": [
    "- Style: 10%\n",
    "- Use of comprehension: 40%\n",
    "- Use of conditional: 25%\n",
    "- Correct result: 25%"
   ]
  },
  {
   "cell_type": "markdown",
   "metadata": {},
   "source": [
    "### Question 8"
   ]
  },
  {
   "cell_type": "markdown",
   "metadata": {},
   "source": [
    "Write a fucntion `wrap_values_in_tuples` that takes a dictionary and mutates that dictionary such that each value in the dictionary is wrapped in a tuple. Ie. \n",
    "\n",
    "```python\n",
    ">>> d = {\n",
    "...     'key1': 'value1',\n",
    "...     'key2': 'value2',\n",
    "... }\n",
    ">>> wrap_values_in_tuples(d)\n",
    ">>> d\n",
    "{'key1': ('value1',), 'key2': ('value2',)}\n",
    "```\n",
    "\n",
    "[1 point]"
   ]
  },
  {
   "cell_type": "code",
   "execution_count": 1,
   "metadata": {},
   "outputs": [
    {
     "data": {
      "text/plain": [
       "{'key1': ('value1',), 'key2': ('value2',)}"
      ]
     },
     "execution_count": 1,
     "metadata": {},
     "output_type": "execute_result"
    }
   ],
   "source": [
    "def wrap_values_in_tuples(d):\n",
    "    for key, value in d.items():\n",
    "        d[key] = value,\n",
    "        \n",
    "# Test\n",
    "d = {\n",
    "    'key1': 'value1',\n",
    "    'key2': 'value2',\n",
    "}\n",
    "wrap_values_in_tuples(d)\n",
    "d"
   ]
  },
  {
   "cell_type": "markdown",
   "metadata": {},
   "source": [
    "- Style: 10%\n",
    "- Mutation of passed dictionary: 40%\n",
    "- Correct result: 25%\n",
    "- Correct signature: 25%"
   ]
  },
  {
   "cell_type": "markdown",
   "metadata": {},
   "source": [
    "### Question 9"
   ]
  },
  {
   "cell_type": "markdown",
   "metadata": {},
   "source": [
    "Write a fucntion `wrap_values_in_tuples` that takes a dictionary and returns a new dictionary. Each key from the given dictionary should be in the new dictionary and each value in the old dictionary should be wrapped in a tuple in the new dictionary. Ie.\n",
    "\n",
    "```python\n",
    ">>> d = {\n",
    "...     'key1': 'value1',\n",
    "...     'key2': 'value2',\n",
    "... }\n",
    ">>> wrap_values_in_tuples(d)\n",
    "{'key1': ('value1',), 'key2': ('value2',)}\n",
    ">>> d\n",
    "{'key1': 'value1', 'key2': 'value2'}\n",
    "```\n",
    "\n",
    "This is **NOT** the same question as above. \n",
    "\n",
    "[1 point]"
   ]
  },
  {
   "cell_type": "code",
   "execution_count": 2,
   "metadata": {},
   "outputs": [
    {
     "data": {
      "text/plain": [
       "{'key1': ('value1',), 'key2': ('value2',)}"
      ]
     },
     "execution_count": 2,
     "metadata": {},
     "output_type": "execute_result"
    }
   ],
   "source": [
    "def wrap_values_in_tuples(d):\n",
    "    return {key: (value,) for key, value in d.items()}\n",
    "\n",
    "\n",
    "# Test\n",
    "d = {\n",
    "    'key1': 'value1',\n",
    "    'key2': 'value2',\n",
    "}\n",
    "wrap_values_in_tuples(d)"
   ]
  },
  {
   "cell_type": "markdown",
   "metadata": {},
   "source": [
    "- Style: 10%\n",
    "- Copy of passed dictionary: 40%\n",
    "- Correct result: 25%\n",
    "- Correct signature: 25%"
   ]
  },
  {
   "cell_type": "markdown",
   "metadata": {},
   "source": [
    "### Question 10"
   ]
  },
  {
   "cell_type": "markdown",
   "metadata": {},
   "source": [
    "##### HTML Document A\n",
    "\n",
    "```html\n",
    "<!DOCTYPE html>\n",
    "<html lang=\"en\">\n",
    "  <head>\n",
    "    <meta charset=\"utf-8\">\n",
    "    <title>title</title>\n",
    "    <link rel=\"stylesheet\" href=\"style.css\">\n",
    "    <script src=\"script.js\"></script>\n",
    "  </head>\n",
    "  <body>\n",
    "    These are my favorite links!\n",
    "    <ul>\n",
    "      <li><a href=\"https://www.google.com/\">Google</a></li>\n",
    "      <li><a href=\"http://pyvideo.org/\">PyVideo.org</a></li>\n",
    "      <li><a href=\"https://www.python.org/\">Python.org</a></li>\n",
    "    </ul>\n",
    "  </body>\n",
    "</html>\n",
    "```"
   ]
  },
  {
   "cell_type": "markdown",
   "metadata": {},
   "source": [
    "Assume you have the content of HTML Document A stored in a `bs4.BeautifulSoup` object (from the Beautiful Soup library) named `soup`. Write an expression that returns a list of all of the list item elements in the HTML document. This may only take one line of code!\n",
    "\n",
    "[1 point]"
   ]
  },
  {
   "cell_type": "code",
   "execution_count": null,
   "metadata": {
    "collapsed": true
   },
   "outputs": [],
   "source": [
    "soup.find_all('li')"
   ]
  },
  {
   "cell_type": "markdown",
   "metadata": {},
   "source": [
    "- Style: 10%\n",
    "- Correct answer: 90%"
   ]
  },
  {
   "cell_type": "markdown",
   "metadata": {},
   "source": [
    "### Question 11"
   ]
  },
  {
   "cell_type": "markdown",
   "metadata": {},
   "source": [
    "Write a single function to parse a string date time of the form `'%Y-%m-%dT%H:%M:%S'` or `'%Y-%m-%d %H:%M:%S'`. The function should attempt to parse a string date time with the first pattern and upon any exception, attempt parsing the date time with the second pattern. Assuming that only built-in data types will be passed to this function, catch only those exceptions that would result from a parse error of the value passed into your function; there are two. The `strptime` method is located on the `datetime.datetime` class; ie. `datetime.datetime.strptime`.\n",
    "\n",
    "[2 points]"
   ]
  },
  {
   "cell_type": "code",
   "execution_count": 19,
   "metadata": {
    "collapsed": true
   },
   "outputs": [],
   "source": [
    "def parse_datetime(datetime_string):\n",
    "    try:\n",
    "        return datetime.datetime.strptime(datetime_string, '%Y-%m-%dT%H:%M:%S')\n",
    "    except (TypeError, ValueError):\n",
    "        return datetime.datetime.strptime(datetime_string, '%Y-%m-%d %H:%M:%S')"
   ]
  },
  {
   "cell_type": "markdown",
   "metadata": {},
   "source": [
    "- Style: 10%\n",
    "- Correct signature: 10%\n",
    "- Correct use of strptime: 15%\n",
    "- Correct return value: 15%\n",
    "- Use of try...except statement: 25%\n",
    "- Correct exceptions caught: 25%"
   ]
  },
  {
   "cell_type": "markdown",
   "metadata": {},
   "source": [
    "### Question 12"
   ]
  },
  {
   "cell_type": "markdown",
   "metadata": {},
   "source": [
    "Complete the recurisve function:\n",
    "\n",
    "    def flatten(obj):\n",
    "        \"\"\"\n",
    "        This function should take a nested dictionary strucutre of unknown \n",
    "        depth and flatten its keys and values into a single dictonary. \n",
    "        The values at keys in deeper dicts should take precedence over \n",
    "        the values in the higher dicts that contain them. For consistency,\n",
    "        the items in ``obj`` should be sorted before de-nesting.\n",
    "\n",
    "        >>> flatten({'a': {'a': True, 'b': {'b': False}}, 'c': None})\n",
    "        {'a': True, 'b': False, 'c': None}\n",
    "        \"\"\"\n",
    "        flattened_dict = {}\n",
    "        for key, value in sorted(obj.items()):\n",
    "            if isinstance(value, dict):\n",
    "                # FILL ME IN\n",
    "            else:\n",
    "                # FILL ME IN\n",
    "\n",
    "        return flattened_dict\n",
    "        \n",
    "[2 points]"
   ]
  },
  {
   "cell_type": "code",
   "execution_count": 14,
   "metadata": {
    "collapsed": true
   },
   "outputs": [],
   "source": [
    "def flatten(obj):\n",
    "    \"\"\"\n",
    "    This function should take a nested dictionary strucutre of unknown \n",
    "    depth and flatten its keys and values into a single dictonary. \n",
    "    The values at keys in deeper dicts should take precedence over \n",
    "    the values in the higher dicts that contain them. For consistency,\n",
    "    the items in ``obj`` should be sorted before de-nesting.\n",
    "    \n",
    "    >>> flatten({'a': {'a': True, 'b': {'b': False}}, 'c': None})\n",
    "    {'a': True, 'b': False, 'c': None}\n",
    "    \"\"\"\n",
    "    flattened_dict = {}\n",
    "    for key, value in sorted(obj.items()):\n",
    "        if isinstance(value, dict):\n",
    "            flattened_dict.update(flatten(value))\n",
    "        else:\n",
    "            flattened_dict[key] = value\n",
    "\n",
    "    return flattened_dict"
   ]
  },
  {
   "cell_type": "markdown",
   "metadata": {
    "collapsed": true
   },
   "source": [
    "- Style: 10%\n",
    "- Simplicity: 15%\n",
    "- Reuse of flatten correctly: 50%\n",
    "- Correct return value: 25%"
   ]
  },
  {
   "cell_type": "markdown",
   "metadata": {},
   "source": [
    "### Question 13"
   ]
  },
  {
   "cell_type": "markdown",
   "metadata": {},
   "source": [
    "Create a generator function named `parse_values` that takes a multi-line string. The generator function should produce a generator that returns each line of the multi-line string as a list of values. Assume each line in the multi-line blob of text will contain values separated by a tab character (`\\t`). The process of separating the values based on their delimeter will need to be done for each row. However, this row operation should only be done on an as needed basis. That is to say, if only the first row of values is needed, the separation operation should only be done on the first row; no other rows should be processed. Ignore empty (or only whitespace) rows at the beginning and end of each row of text.\n",
    "\n",
    "\n",
    "```python\n",
    "def parse_values(string):\n",
    "    # implement me\n",
    "    pass\n",
    "    \n",
    " \n",
    "# example multi-line string\n",
    "\"\"\"\n",
    "1\\t2\\t3\n",
    "hi\\tthis\\tis\\tgreat\n",
    "I think I can\\tI think I can\\tI think I can\n",
    "\"\"\"\n",
    "\n",
    "# example results\n",
    "['1', '2', '3']\n",
    "['hi', 'this', 'is', 'great']\n",
    "['I think I can', 'I think I can', 'I think I can']\n",
    "```\n",
    "\n",
    "[2 points]"
   ]
  },
  {
   "cell_type": "code",
   "execution_count": 23,
   "metadata": {
    "collapsed": true
   },
   "outputs": [],
   "source": [
    "def parse_values(string):\n",
    "    rows = string.strip().split('\\n')\n",
    "    for row in rows:\n",
    "        yield row.strip().split('\\t')"
   ]
  },
  {
   "cell_type": "markdown",
   "metadata": {},
   "source": [
    "- Style: 10%\n",
    "- Use of generator: 30%\n",
    "- Yields lists: 15%\n",
    "- Major body processing done before for loop: 15%\n",
    "- Row processing only done when neeeded: 30%"
   ]
  },
  {
   "cell_type": "markdown",
   "metadata": {},
   "source": [
    "### Question 14"
   ]
  },
  {
   "cell_type": "markdown",
   "metadata": {},
   "source": [
    "The following text is sent back from a server to your program. Write a function `format` to print this data in a nicer format. The formatting should dispaly the information in the format shown below.\n",
    "\n",
    "```json\n",
    "{\n",
    "    \"ticket_count\": 2,\n",
    "    \"ticket_price\": 39.99,\n",
    "    \"tax\": 12.00,\n",
    "    \"total_cost\": 91.98,\n",
    "    \"ticket_holders\": [\"Angela Woodworm\", \"Jason Sachfield\"]\n",
    "} \n",
    "```\n",
    "\n",
    "```python\n",
    "def format(text):\n",
    "    # Implement me\n",
    "    pass\n",
    "\n",
    "```\n",
    "\n",
    "##### Example\n",
    "```\n",
    ">>> format(...)\n",
    "Tickets Purchased: 2\n",
    "Names:\n",
    "    Angela Woodworm ($39.99)\n",
    "    Jason Sachfield ($39.99)\n",
    "Tax: $12.00\n",
    "Total Cost: $91.98\n",
    "```\n",
    "\n",
    "[1 point]"
   ]
  },
  {
   "cell_type": "code",
   "execution_count": 24,
   "metadata": {},
   "outputs": [
    {
     "name": "stdout",
     "output_type": "stream",
     "text": [
      "Tickets Purchased: 2\n",
      "Names:\n",
      "    Angela Woodworm ($39.99)\n",
      "    Jason Sachfield ($39.99)\n",
      "Tax: $12.0\n",
      "Total Cost: $91.98\n"
     ]
    }
   ],
   "source": [
    "import json\n",
    "\n",
    "\n",
    "def format(text):\n",
    "    data = json.loads(text)\n",
    "    print('Tickets Purchased: {}'.format(data.get('ticket_count')))\n",
    "    print('Names:')\n",
    "    for name in data.get('ticket_holders'):\n",
    "        print('    {} (${})'.format(name, data.get('ticket_price')))\n",
    "    print('Tax: ${}'.format(data.get('tax')))\n",
    "    print('Total Cost: ${}'.format(data.get('total_cost')))\n",
    "    \n",
    "\n",
    "# Test\n",
    "s = \"\"\"{\n",
    "    \"ticket_count\": 2,\n",
    "    \"ticket_price\": 39.99,\n",
    "    \"tax\": 12.00,\n",
    "    \"total_cost\": 91.98,\n",
    "    \"ticket_holders\": [\"Angela Woodworm\", \"Jason Sachfield\"]\n",
    "}\"\"\"\n",
    "format(s)"
   ]
  },
  {
   "cell_type": "markdown",
   "metadata": {},
   "source": [
    "### Question 15"
   ]
  },
  {
   "cell_type": "markdown",
   "metadata": {},
   "source": [
    "Assume that after shelling into your virtual machine, `bash` has set your present working directory to `/home/me`. List the command and its arguments used to create a new directory named `homework`. \n",
    "\n",
    "Type the command and its agruments as you would type them in at the command line. \n",
    "\n",
    "[1 point]"
   ]
  },
  {
   "cell_type": "markdown",
   "metadata": {},
   "source": [
    "```sh\n",
    "mkdir homework\n",
    "```"
   ]
  },
  {
   "cell_type": "markdown",
   "metadata": {},
   "source": [
    "### Question 16"
   ]
  },
  {
   "cell_type": "markdown",
   "metadata": {},
   "source": [
    "What `git` command is used to initiate the creation of a new milestone (aka. a new stamp in time) in the history of a repository.\n",
    "\n",
    "[1 point]"
   ]
  },
  {
   "cell_type": "markdown",
   "metadata": {},
   "source": [
    "```sh\n",
    "git commit     or    commit\n",
    "```"
   ]
  },
  {
   "cell_type": "markdown",
   "metadata": {},
   "source": [
    "### Survey Question\n",
    "\n",
    "\n",
    "Ungraded: Survey:\n",
    "\n",
    "Only answer those questions that are listed with \"ONLY ANSWER AFTER YOU HAVE TAKEN THE FINAL ON TUESDAY\"."
   ]
  },
  {
   "cell_type": "code",
   "execution_count": null,
   "metadata": {
    "collapsed": true
   },
   "outputs": [],
   "source": []
  }
 ],
 "metadata": {
  "anaconda-cloud": {},
  "kernelspec": {
   "display_name": "Python 3",
   "language": "python",
   "name": "python3"
  },
  "language_info": {
   "codemirror_mode": {
    "name": "ipython",
    "version": 3
   },
   "file_extension": ".py",
   "mimetype": "text/x-python",
   "name": "python",
   "nbconvert_exporter": "python",
   "pygments_lexer": "ipython3",
   "version": "3.6.3"
  }
 },
 "nbformat": 4,
 "nbformat_minor": 1
}
