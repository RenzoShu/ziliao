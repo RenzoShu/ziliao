{
 "cells": [
  {
   "cell_type": "markdown",
   "metadata": {},
   "source": [
    "## Regular Expressions"
   ]
  },
  {
   "cell_type": "code",
   "execution_count": 8,
   "metadata": {
    "collapsed": true
   },
   "outputs": [],
   "source": [
    "import re"
   ]
  },
  {
   "cell_type": "code",
   "execution_count": 11,
   "metadata": {},
   "outputs": [
    {
     "data": {
      "text/plain": [
       "('111', '456', '7890')"
      ]
     },
     "execution_count": 11,
     "metadata": {},
     "output_type": "execute_result"
    }
   ],
   "source": [
    "pattern = r'^(\\d{3})-(\\d{3})-(\\d{4})$'\n",
    "string = '111-456-7890'\n",
    "match = re.match(pattern, string)\n",
    "match.groups()"
   ]
  },
  {
   "cell_type": "code",
   "execution_count": 13,
   "metadata": {},
   "outputs": [
    {
     "name": "stdout",
     "output_type": "stream",
     "text": [
      "111-456-7890 => ('111', '456', '7890')\n",
      "2228901234 => No match\n",
      "333.456.3847 => No match\n",
      "(444) 456-7890 => No match\n"
     ]
    }
   ],
   "source": [
    "# Let's parse some strings that are formatted differently\n",
    "numbers = \"\"\"\n",
    "111-456-7890\n",
    "2228901234\n",
    "333.456.3847\n",
    "(444) 456-7890\n",
    "\"\"\"\n",
    "\n",
    "# Parens create groups, \\d matches decimals, and {x} match x number of last character set.\n",
    "# Let's compile for speed.\n",
    "pattern = re.compile(r'^(\\d{3})-(\\d{3})-(\\d{4})$')\n",
    "# ? matches 0 or 1 instances of last character set\n",
    "# pattern = re.compile(r'^(\\d{3})-?(\\d{3})-?(\\d{4})$')  \n",
    "# \\D matches a non-decimal character. * match 0 or more instances of last character set.\n",
    "# pattern = re.compile(r'^(\\d{3})\\D*(\\d{3})\\D*(\\d{4})$')\n",
    "# Putting it all together.\n",
    "# pattern = re.compile(r'^\\(?(\\d{3})\\)?\\D*(\\d{3})\\D*(\\d{4})$')\n",
    "\n",
    "for number in numbers.strip().split('\\n'):\n",
    "    match = pattern.match(number)\n",
    "    if match:\n",
    "        print(number, '=>', match.groups())\n",
    "    else:\n",
    "        print(number, '=>', 'No match')"
   ]
  },
  {
   "cell_type": "code",
   "execution_count": 18,
   "metadata": {},
   "outputs": [
    {
     "data": {
      "text/plain": [
       "('1-', '800', 'kid', 'CARS')"
      ]
     },
     "execution_count": 18,
     "metadata": {},
     "output_type": "execute_result"
    }
   ],
   "source": [
    "# Look up documentation:: https://docs.python.org/3/library/re.html\n",
    "\n",
    "# character ranges are denoted with [character range]\n",
    "pattern = r'^(1-)?(\\d{3})-([A-Za-z0-9]{3})-([A-Za-z0-9]{4})$'\n",
    "string = '1-800-kid-CARS'\n",
    "match = re.match(pattern, string)\n",
    "match.groups()"
   ]
  },
  {
   "cell_type": "code",
   "execution_count": 30,
   "metadata": {},
   "outputs": [
    {
     "data": {
      "text/plain": [
       "('Mary-Jo',)"
      ]
     },
     "execution_count": 30,
     "metadata": {},
     "output_type": "execute_result"
    }
   ],
   "source": [
    "pattern = r'^([A-Za-z-]+)$'\n",
    "string = 'Mary-Jo'\n",
    "match = re.match(pattern, string)\n",
    "match.groups()"
   ]
  },
  {
   "cell_type": "code",
   "execution_count": 37,
   "metadata": {},
   "outputs": [
    {
     "name": "stdout",
     "output_type": "stream",
     "text": [
      "('Mary-Jo', 'Lue-ellen')\n",
      "Mary-Jo\n",
      "Lue-ellen\n"
     ]
    }
   ],
   "source": [
    "# Named groups\n",
    "pattern = r'^(?P<first_name>[A-Za-z-]+) (?P<last_name>[A-Za-z-]+)$'\n",
    "string = 'Mary-Jo Lue-ellen'\n",
    "match = re.match(pattern, string)\n",
    "print(match.groups())\n",
    "print(match.group('first_name'))\n",
    "print(match.group('last_name'))"
   ]
  },
  {
   "cell_type": "code",
   "execution_count": 42,
   "metadata": {},
   "outputs": [
    {
     "name": "stdout",
     "output_type": "stream",
     "text": [
      "('Mary-Jo', 'Lue-ellen')\n",
      "Mary-Jo\n",
      "Lue-ellen\n"
     ]
    }
   ],
   "source": [
    "# Flags\n",
    "pattern = r'''\n",
    "    ^                        # match beginning of string\n",
    "    (?P<first_name>[A-Z-]+)  # match first name\n",
    "    \\s+                      # match space between names\n",
    "    (?P<last_name>[A-Z-]+)   # match last name\n",
    "    $                        # match end of string\n",
    "'''\n",
    "\n",
    "string = 'Mary-Jo Lue-ellen'\n",
    "match = re.match(pattern, string, flags=(re.IGNORECASE | re.VERBOSE))\n",
    "\n",
    "print(match.groups())\n",
    "print(match.group('first_name'))\n",
    "print(match.group('last_name'))"
   ]
  },
  {
   "cell_type": "code",
   "execution_count": null,
   "metadata": {
    "collapsed": true
   },
   "outputs": [],
   "source": []
  }
 ],
 "metadata": {
  "kernelspec": {
   "display_name": "Python 3",
   "language": "python",
   "name": "python3"
  },
  "language_info": {
   "codemirror_mode": {
    "name": "ipython",
    "version": 3
   },
   "file_extension": ".py",
   "mimetype": "text/x-python",
   "name": "python",
   "nbconvert_exporter": "python",
   "pygments_lexer": "ipython3",
   "version": "3.6.3"
  }
 },
 "nbformat": 4,
 "nbformat_minor": 2
}
